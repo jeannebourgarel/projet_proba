{
 "cells": [
  {
   "cell_type": "markdown",
   "metadata": {},
   "source": [
    "# Projet numérique : câble sous-marin"
   ]
  },
  {
   "cell_type": "markdown",
   "metadata": {},
   "source": [
    "## Questions théoriques"
   ]
  },
  {
   "cell_type": "markdown",
   "metadata": {},
   "source": [
    "1) La loi des grands nombres permet, pour un nombre suffisamment important de simulations conditionnelles, d'estimer l'espérance conditionnelle comme la moyenne empirique de simulations conditionnelles."
   ]
  },
  {
   "cell_type": "markdown",
   "metadata": {},
   "source": [
    "2) On note $U$ le vecteur des composantes de $Z$ correspondant aux points de discrétisation sans observation, $V$ celui correspondant aux points de discrétisation avec observation. \n",
    "La loi conditionnelle de U sachant $V=v$ est définie par la densité conditionnelle suivante : \n",
    "$f_{U|V = v}(u) = \\frac{1}{(2\\pi)^{n/2}\\sqrt{\\det(CS_{U})}}\\exp(-\\frac{1}{2}(u - m_{U|V=v}){}^tCS_{U}^{-1}(u-m_{U|V=v})$.\n",
    "En effet, le vecteur des profondeurs $Z$ est gaussien à densité et (au réordonnement des indices près) est tel que $Z = (Z_{1},\\ldots,Z_{N})$ avec $U = (Z_1 ,\\ldots,Z_{N-n+1}$ et $V = (Z_{N-n},\\ldots,Z_N)$.\n",
    "$CS_{U}$ désigne le complément de Schur du bloc $C_U$ de la matrice de covariance $C$ de $Z$ définie par blocs : $\\begin{pmatrix} C_U&C_{U,V} \\\\ C_{V,U}&C_{V} \\end{pmatrix}$ où $C_U = Cov(U,U)$, $C_Z = Cov(V,V)$ et $C_{U,V} = Cov(U,V)$.\n",
    "On a donc $CS_U = C_U - C_{U,V}C_{V}^{-1}C_{V,U}$.\n",
    "$m_{U|V=v} = m_U + C_{U,V}C_{V}^{-1}(v-m_V)$ est l'espérance conditionnelle de $U$ sachant $V$ ;  et CS_U est la covariance conditionnelle de $U$ sachant $V$."
   ]
  },
  {
   "cell_type": "markdown",
   "metadata": {},
   "source": [
    "3) Si $Y = (Y_1,\\ldots,Y_p)$ est un vecteur de composantes gaussiennes indépendantes, toutes d'espérance nulle et de variance 1, alors le vecteur $Z=m+RY$ (où $R$ est une matrice $p\\times p$ et $m$ est un vecteur de taille $p$) est gaussien d'espérance $m$ et de matrice de covariance $RR^{t}$."
   ]
  },
  {
   "cell_type": "markdown",
   "metadata": {},
   "source": [
    "4) Algorithme de simulation conditionnelle :\n",
    "Calcul de la matrice de covariance du vecteur des profondeurs $Z$, grâce à la fonction $C$.\n",
    "On extrait de cette matrice les blocs $C_U$, $C_{U,V}$, $C_{V,U}$,$C_V$ (on tient compte des indices des points d'observation).\n",
    "Calcul de l'espérance conditionnelle $m$ de $U$ sachant $V$, grâce aux blocs extraits à l'étape précédente.\n",
    "Calcul de la covariance conditionnelle $CS_U$. Comme la matrice de covariance $C$ du vecteur des profondeurs $Z$ est définie positive, $CS_U$ est aussi définie positive, on peut donc écrire sa décomposition de Cholesky $CS_U = RR^{t}$.\n",
    "Simulation d'un vecteur gaussien $Y$ de $k$ variables indépendantes d'espérance nulle et de variance 1 (où $k$ est le nombre de points de discrétisation sans observation).\n",
    "Calcul de $U = m + RY$.\n",
    "On ainsi effectué une simulation conditionnelle de $U$ sachant $V = v$."
   ]
  },
  {
   "cell_type": "markdown",
   "metadata": {},
   "source": [
    "## Données"
   ]
  },
  {
   "cell_type": "code",
   "execution_count": 1,
   "metadata": {},
   "outputs": [],
   "source": [
    "import numpy as np\n",
    "from math import*\n",
    "import matplotlib.pyplot as plt"
   ]
  },
  {
   "cell_type": "code",
   "execution_count": 3,
   "metadata": {},
   "outputs": [],
   "source": [
    "# Discrétisation\n",
    "\n",
    "A = 0\n",
    "B = 500\n",
    "N = 101  #Nombre de points de discrétisation\n",
    "Delta = (B-A)/(N-1)\n",
    "discretization_indexes = np.arange(N)\n",
    "discretization = Delta * discretization_indexes\n",
    "\n",
    "# Paramètres du modèle\n",
    "\n",
    "a = 50\n",
    "sigma_2 = 12\n",
    "mu = -5\n",
    "\n",
    "# Données\n",
    "\n",
    "observation_indexes = [k for k in range(0, N, 20)]\n",
    "depth = np.array([0, -4, -12.8, -1, -6.5, 0])\n",
    "\n",
    "# Indices des composants correspondants aux observations et aux composantes non observ&es\n",
    "\n",
    "unknown_indexes = list(set(discretization_indexes) - set(observation_indexes))"
   ]
  },
  {
   "cell_type": "markdown",
   "metadata": {},
   "source": [
    "## Questions"
   ]
  },
  {
   "cell_type": "markdown",
   "metadata": {},
   "source": [
    "### Covariance"
   ]
  },
  {
   "cell_type": "code",
   "execution_count": 7,
   "metadata": {},
   "outputs": [
    {
     "name": "stdout",
     "output_type": "stream",
     "text": [
      "distances : [[   0.   -5.  -10. ... -490. -495. -500.]\n",
      " [   5.    0.   -5. ... -485. -490. -495.]\n",
      " [  10.    5.    0. ... -480. -485. -490.]\n",
      " ...\n",
      " [ 490.  485.  480. ...    0.   -5.  -10.]\n",
      " [ 495.  490.  485. ...    5.    0.   -5.]\n",
      " [ 500.  495.  490. ...   10.    5.    0.]]\n",
      "matrice de covariance : [[1.20000000e+01 1.08580490e+01 9.82476904e+00 ... 6.65419193e-04\n",
      "  6.02096185e-04 5.44799157e-04]\n",
      " [1.08580490e+01 1.20000000e+01 1.08580490e+01 ... 7.35401941e-04\n",
      "  6.65419193e-04 6.02096185e-04]\n",
      " [9.82476904e+00 1.08580490e+01 1.20000000e+01 ... 8.12744838e-04\n",
      "  7.35401941e-04 6.65419193e-04]\n",
      " ...\n",
      " [6.65419193e-04 7.35401941e-04 8.12744838e-04 ... 1.20000000e+01\n",
      "  1.08580490e+01 9.82476904e+00]\n",
      " [6.02096185e-04 6.65419193e-04 7.35401941e-04 ... 1.08580490e+01\n",
      "  1.20000000e+01 1.08580490e+01]\n",
      " [5.44799157e-04 6.02096185e-04 6.65419193e-04 ... 9.82476904e+00\n",
      "  1.08580490e+01 1.20000000e+01]]\n"
     ]
    }
   ],
   "source": [
    "def covariance(a, sigma2, h) :\n",
    "    return sigma2 * np.exp(-np.abs(h)/a)\n",
    "\n",
    "X = np.linspace(A, B, N)\n",
    "distance = np.array([[X[i] - X[j] for j in range(N)] for i in range(N)])\n",
    "print(f\"distances : {distance}\")\n",
    "\n",
    "Sigma = covariance(a, sigma_2, distance)\n",
    "print(f\"matrice de covariance : {Sigma}\")"
   ]
  },
  {
   "cell_type": "markdown",
   "metadata": {},
   "source": [
    "### Extraction"
   ]
  },
  {
   "cell_type": "code",
   "execution_count": 10,
   "metadata": {},
   "outputs": [
    {
     "name": "stdout",
     "output_type": "stream",
     "text": [
      " matrice de covariance entre les observations : [[1.20000000e+01 1.62402340e+00 2.19787667e-01 2.97450261e-02\n",
      "  4.02555153e-03 5.44799157e-04]\n",
      " [1.62402340e+00 1.20000000e+01 1.62402340e+00 2.19787667e-01\n",
      "  2.97450261e-02 4.02555153e-03]\n",
      " [2.19787667e-01 1.62402340e+00 1.20000000e+01 1.62402340e+00\n",
      "  2.19787667e-01 2.97450261e-02]\n",
      " [2.97450261e-02 2.19787667e-01 1.62402340e+00 1.20000000e+01\n",
      "  1.62402340e+00 2.19787667e-01]\n",
      " [4.02555153e-03 2.97450261e-02 2.19787667e-01 1.62402340e+00\n",
      "  1.20000000e+01 1.62402340e+00]\n",
      " [5.44799157e-04 4.02555153e-03 2.97450261e-02 2.19787667e-01\n",
      "  1.62402340e+00 1.20000000e+01]]\n",
      " matrice de covariance entre les inconnues : [[1.20000000e+01 1.08580490e+01 9.82476904e+00 ... 8.12744838e-04\n",
      "  7.35401941e-04 6.65419193e-04]\n",
      " [1.08580490e+01 1.20000000e+01 1.08580490e+01 ... 8.98221959e-04\n",
      "  8.12744838e-04 7.35401941e-04]\n",
      " [9.82476904e+00 1.08580490e+01 1.20000000e+01 ... 9.92688787e-04\n",
      "  8.98221959e-04 8.12744838e-04]\n",
      " ...\n",
      " [8.12744838e-04 8.98221959e-04 9.92688787e-04 ... 1.20000000e+01\n",
      "  1.08580490e+01 9.82476904e+00]\n",
      " [7.35401941e-04 8.12744838e-04 8.98221959e-04 ... 1.08580490e+01\n",
      "  1.20000000e+01 1.08580490e+01]\n",
      " [6.65419193e-04 7.35401941e-04 8.12744838e-04 ... 9.82476904e+00\n",
      "  1.08580490e+01 1.20000000e+01]]\n",
      " matrice de covariance entre les observations et les inconnues : [[1.08580490e+01 9.82476904e+00 8.88981865e+00 8.04384055e+00\n",
      "  7.27836792e+00 6.58573963e+00 5.95902365e+00 5.39194757e+00\n",
      "  4.87883592e+00 4.41455329e+00 3.99445300e+00 3.61433054e+00\n",
      "  3.27038152e+00 2.95916357e+00 2.67756192e+00 2.42275822e+00\n",
      "  2.19220229e+00 1.98358666e+00 1.79482343e+00 1.46947714e+00\n",
      "  1.32963790e+00 1.20310612e+00 1.08861544e+00 9.85019983e-01\n",
      "  8.91282939e-01 8.06466153e-01 7.29720752e-01 6.60278641e-01\n",
      "  5.97444820e-01 5.40590429e-01 4.89146448e-01 4.42598009e-01\n",
      "  4.00479240e-01 3.62368601e-01 3.27884669e-01 2.96682318e-01\n",
      "  2.68449262e-01 2.42902937e-01 1.98872105e-01 1.79946922e-01\n",
      "  1.62822708e-01 1.47328079e-01 1.33307958e-01 1.20622029e-01\n",
      "  1.09143325e-01 9.87569646e-02 8.93589969e-02 8.08553640e-02\n",
      "  7.31609588e-02 6.61987730e-02 5.98991269e-02 5.41989713e-02\n",
      "  4.90412573e-02 4.43743646e-02 4.01515855e-02 3.63306569e-02\n",
      "  3.28733378e-02 2.69144126e-02 2.43531676e-02 2.20356573e-02\n",
      "  1.99386873e-02 1.80412703e-02 1.63244165e-02 1.47709428e-02\n",
      "  1.33653018e-02 1.20934251e-02 1.09425836e-02 9.90125908e-03\n",
      "  8.95902970e-03 8.10646530e-03 7.33503313e-03 6.63701244e-03\n",
      "  6.00541720e-03 5.43392619e-03 4.91681975e-03 4.44892249e-03\n",
      "  3.64246966e-03 3.29584284e-03 2.98220193e-03 2.69840789e-03\n",
      "  2.44162043e-03 2.20926952e-03 1.99902973e-03 1.80879690e-03\n",
      "  1.63666712e-03 1.48091765e-03 1.33998970e-03 1.21247282e-03\n",
      "  1.09709078e-03 9.92688787e-04 8.98221959e-04 8.12744838e-04\n",
      "  7.35401941e-04 6.65419193e-04 6.02096185e-04]\n",
      " [1.79482343e+00 1.98358666e+00 2.19220229e+00 2.42275822e+00\n",
      "  2.67756192e+00 2.95916357e+00 3.27038152e+00 3.61433054e+00\n",
      "  3.99445300e+00 4.41455329e+00 4.87883592e+00 5.39194757e+00\n",
      "  5.95902365e+00 6.58573963e+00 7.27836792e+00 8.04384055e+00\n",
      "  8.88981865e+00 9.82476904e+00 1.08580490e+01 1.08580490e+01\n",
      "  9.82476904e+00 8.88981865e+00 8.04384055e+00 7.27836792e+00\n",
      "  6.58573963e+00 5.95902365e+00 5.39194757e+00 4.87883592e+00\n",
      "  4.41455329e+00 3.99445300e+00 3.61433054e+00 3.27038152e+00\n",
      "  2.95916357e+00 2.67756192e+00 2.42275822e+00 2.19220229e+00\n",
      "  1.98358666e+00 1.79482343e+00 1.46947714e+00 1.32963790e+00\n",
      "  1.20310612e+00 1.08861544e+00 9.85019983e-01 8.91282939e-01\n",
      "  8.06466153e-01 7.29720752e-01 6.60278641e-01 5.97444820e-01\n",
      "  5.40590429e-01 4.89146448e-01 4.42598009e-01 4.00479240e-01\n",
      "  3.62368601e-01 3.27884669e-01 2.96682318e-01 2.68449262e-01\n",
      "  2.42902937e-01 1.98872105e-01 1.79946922e-01 1.62822708e-01\n",
      "  1.47328079e-01 1.33307958e-01 1.20622029e-01 1.09143325e-01\n",
      "  9.87569646e-02 8.93589969e-02 8.08553640e-02 7.31609588e-02\n",
      "  6.61987730e-02 5.98991269e-02 5.41989713e-02 4.90412573e-02\n",
      "  4.43743646e-02 4.01515855e-02 3.63306569e-02 3.28733378e-02\n",
      "  2.69144126e-02 2.43531676e-02 2.20356573e-02 1.99386873e-02\n",
      "  1.80412703e-02 1.63244165e-02 1.47709428e-02 1.33653018e-02\n",
      "  1.20934251e-02 1.09425836e-02 9.90125908e-03 8.95902970e-03\n",
      "  8.10646530e-03 7.33503313e-03 6.63701244e-03 6.00541720e-03\n",
      "  5.43392619e-03 4.91681975e-03 4.44892249e-03]\n",
      " [2.42902937e-01 2.68449262e-01 2.96682318e-01 3.27884669e-01\n",
      "  3.62368601e-01 4.00479240e-01 4.42598009e-01 4.89146448e-01\n",
      "  5.40590429e-01 5.97444820e-01 6.60278641e-01 7.29720752e-01\n",
      "  8.06466153e-01 8.91282939e-01 9.85019983e-01 1.08861544e+00\n",
      "  1.20310612e+00 1.32963790e+00 1.46947714e+00 1.79482343e+00\n",
      "  1.98358666e+00 2.19220229e+00 2.42275822e+00 2.67756192e+00\n",
      "  2.95916357e+00 3.27038152e+00 3.61433054e+00 3.99445300e+00\n",
      "  4.41455329e+00 4.87883592e+00 5.39194757e+00 5.95902365e+00\n",
      "  6.58573963e+00 7.27836792e+00 8.04384055e+00 8.88981865e+00\n",
      "  9.82476904e+00 1.08580490e+01 1.08580490e+01 9.82476904e+00\n",
      "  8.88981865e+00 8.04384055e+00 7.27836792e+00 6.58573963e+00\n",
      "  5.95902365e+00 5.39194757e+00 4.87883592e+00 4.41455329e+00\n",
      "  3.99445300e+00 3.61433054e+00 3.27038152e+00 2.95916357e+00\n",
      "  2.67756192e+00 2.42275822e+00 2.19220229e+00 1.98358666e+00\n",
      "  1.79482343e+00 1.46947714e+00 1.32963790e+00 1.20310612e+00\n",
      "  1.08861544e+00 9.85019983e-01 8.91282939e-01 8.06466153e-01\n",
      "  7.29720752e-01 6.60278641e-01 5.97444820e-01 5.40590429e-01\n",
      "  4.89146448e-01 4.42598009e-01 4.00479240e-01 3.62368601e-01\n",
      "  3.27884669e-01 2.96682318e-01 2.68449262e-01 2.42902937e-01\n",
      "  1.98872105e-01 1.79946922e-01 1.62822708e-01 1.47328079e-01\n",
      "  1.33307958e-01 1.20622029e-01 1.09143325e-01 9.87569646e-02\n",
      "  8.93589969e-02 8.08553640e-02 7.31609588e-02 6.61987730e-02\n",
      "  5.98991269e-02 5.41989713e-02 4.90412573e-02 4.43743646e-02\n",
      "  4.01515855e-02 3.63306569e-02 3.28733378e-02]\n",
      " [3.28733378e-02 3.63306569e-02 4.01515855e-02 4.43743646e-02\n",
      "  4.90412573e-02 5.41989713e-02 5.98991269e-02 6.61987730e-02\n",
      "  7.31609588e-02 8.08553640e-02 8.93589969e-02 9.87569646e-02\n",
      "  1.09143325e-01 1.20622029e-01 1.33307958e-01 1.47328079e-01\n",
      "  1.62822708e-01 1.79946922e-01 1.98872105e-01 2.42902937e-01\n",
      "  2.68449262e-01 2.96682318e-01 3.27884669e-01 3.62368601e-01\n",
      "  4.00479240e-01 4.42598009e-01 4.89146448e-01 5.40590429e-01\n",
      "  5.97444820e-01 6.60278641e-01 7.29720752e-01 8.06466153e-01\n",
      "  8.91282939e-01 9.85019983e-01 1.08861544e+00 1.20310612e+00\n",
      "  1.32963790e+00 1.46947714e+00 1.79482343e+00 1.98358666e+00\n",
      "  2.19220229e+00 2.42275822e+00 2.67756192e+00 2.95916357e+00\n",
      "  3.27038152e+00 3.61433054e+00 3.99445300e+00 4.41455329e+00\n",
      "  4.87883592e+00 5.39194757e+00 5.95902365e+00 6.58573963e+00\n",
      "  7.27836792e+00 8.04384055e+00 8.88981865e+00 9.82476904e+00\n",
      "  1.08580490e+01 1.08580490e+01 9.82476904e+00 8.88981865e+00\n",
      "  8.04384055e+00 7.27836792e+00 6.58573963e+00 5.95902365e+00\n",
      "  5.39194757e+00 4.87883592e+00 4.41455329e+00 3.99445300e+00\n",
      "  3.61433054e+00 3.27038152e+00 2.95916357e+00 2.67756192e+00\n",
      "  2.42275822e+00 2.19220229e+00 1.98358666e+00 1.79482343e+00\n",
      "  1.46947714e+00 1.32963790e+00 1.20310612e+00 1.08861544e+00\n",
      "  9.85019983e-01 8.91282939e-01 8.06466153e-01 7.29720752e-01\n",
      "  6.60278641e-01 5.97444820e-01 5.40590429e-01 4.89146448e-01\n",
      "  4.42598009e-01 4.00479240e-01 3.62368601e-01 3.27884669e-01\n",
      "  2.96682318e-01 2.68449262e-01 2.42902937e-01]\n",
      " [4.44892249e-03 4.91681975e-03 5.43392619e-03 6.00541720e-03\n",
      "  6.63701244e-03 7.33503313e-03 8.10646530e-03 8.95902970e-03\n",
      "  9.90125908e-03 1.09425836e-02 1.20934251e-02 1.33653018e-02\n",
      "  1.47709428e-02 1.63244165e-02 1.80412703e-02 1.99386873e-02\n",
      "  2.20356573e-02 2.43531676e-02 2.69144126e-02 3.28733378e-02\n",
      "  3.63306569e-02 4.01515855e-02 4.43743646e-02 4.90412573e-02\n",
      "  5.41989713e-02 5.98991269e-02 6.61987730e-02 7.31609588e-02\n",
      "  8.08553640e-02 8.93589969e-02 9.87569646e-02 1.09143325e-01\n",
      "  1.20622029e-01 1.33307958e-01 1.47328079e-01 1.62822708e-01\n",
      "  1.79946922e-01 1.98872105e-01 2.42902937e-01 2.68449262e-01\n",
      "  2.96682318e-01 3.27884669e-01 3.62368601e-01 4.00479240e-01\n",
      "  4.42598009e-01 4.89146448e-01 5.40590429e-01 5.97444820e-01\n",
      "  6.60278641e-01 7.29720752e-01 8.06466153e-01 8.91282939e-01\n",
      "  9.85019983e-01 1.08861544e+00 1.20310612e+00 1.32963790e+00\n",
      "  1.46947714e+00 1.79482343e+00 1.98358666e+00 2.19220229e+00\n",
      "  2.42275822e+00 2.67756192e+00 2.95916357e+00 3.27038152e+00\n",
      "  3.61433054e+00 3.99445300e+00 4.41455329e+00 4.87883592e+00\n",
      "  5.39194757e+00 5.95902365e+00 6.58573963e+00 7.27836792e+00\n",
      "  8.04384055e+00 8.88981865e+00 9.82476904e+00 1.08580490e+01\n",
      "  1.08580490e+01 9.82476904e+00 8.88981865e+00 8.04384055e+00\n",
      "  7.27836792e+00 6.58573963e+00 5.95902365e+00 5.39194757e+00\n",
      "  4.87883592e+00 4.41455329e+00 3.99445300e+00 3.61433054e+00\n",
      "  3.27038152e+00 2.95916357e+00 2.67756192e+00 2.42275822e+00\n",
      "  2.19220229e+00 1.98358666e+00 1.79482343e+00]\n",
      " [6.02096185e-04 6.65419193e-04 7.35401941e-04 8.12744838e-04\n",
      "  8.98221959e-04 9.92688787e-04 1.09709078e-03 1.21247282e-03\n",
      "  1.33998970e-03 1.48091765e-03 1.63666712e-03 1.80879690e-03\n",
      "  1.99902973e-03 2.20926952e-03 2.44162043e-03 2.69840789e-03\n",
      "  2.98220193e-03 3.29584284e-03 3.64246966e-03 4.44892249e-03\n",
      "  4.91681975e-03 5.43392619e-03 6.00541720e-03 6.63701244e-03\n",
      "  7.33503313e-03 8.10646530e-03 8.95902970e-03 9.90125908e-03\n",
      "  1.09425836e-02 1.20934251e-02 1.33653018e-02 1.47709428e-02\n",
      "  1.63244165e-02 1.80412703e-02 1.99386873e-02 2.20356573e-02\n",
      "  2.43531676e-02 2.69144126e-02 3.28733378e-02 3.63306569e-02\n",
      "  4.01515855e-02 4.43743646e-02 4.90412573e-02 5.41989713e-02\n",
      "  5.98991269e-02 6.61987730e-02 7.31609588e-02 8.08553640e-02\n",
      "  8.93589969e-02 9.87569646e-02 1.09143325e-01 1.20622029e-01\n",
      "  1.33307958e-01 1.47328079e-01 1.62822708e-01 1.79946922e-01\n",
      "  1.98872105e-01 2.42902937e-01 2.68449262e-01 2.96682318e-01\n",
      "  3.27884669e-01 3.62368601e-01 4.00479240e-01 4.42598009e-01\n",
      "  4.89146448e-01 5.40590429e-01 5.97444820e-01 6.60278641e-01\n",
      "  7.29720752e-01 8.06466153e-01 8.91282939e-01 9.85019983e-01\n",
      "  1.08861544e+00 1.20310612e+00 1.32963790e+00 1.46947714e+00\n",
      "  1.79482343e+00 1.98358666e+00 2.19220229e+00 2.42275822e+00\n",
      "  2.67756192e+00 2.95916357e+00 3.27038152e+00 3.61433054e+00\n",
      "  3.99445300e+00 4.41455329e+00 4.87883592e+00 5.39194757e+00\n",
      "  5.95902365e+00 6.58573963e+00 7.27836792e+00 8.04384055e+00\n",
      "  8.88981865e+00 9.82476904e+00 1.08580490e+01]]\n",
      " matrice de covariance entre les inconnues et les observations : [[1.08580490e+01 1.79482343e+00 2.42902937e-01 3.28733378e-02\n",
      "  4.44892249e-03 6.02096185e-04]\n",
      " [9.82476904e+00 1.98358666e+00 2.68449262e-01 3.63306569e-02\n",
      "  4.91681975e-03 6.65419193e-04]\n",
      " [8.88981865e+00 2.19220229e+00 2.96682318e-01 4.01515855e-02\n",
      "  5.43392619e-03 7.35401941e-04]\n",
      " [8.04384055e+00 2.42275822e+00 3.27884669e-01 4.43743646e-02\n",
      "  6.00541720e-03 8.12744838e-04]\n",
      " [7.27836792e+00 2.67756192e+00 3.62368601e-01 4.90412573e-02\n",
      "  6.63701244e-03 8.98221959e-04]\n",
      " [6.58573963e+00 2.95916357e+00 4.00479240e-01 5.41989713e-02\n",
      "  7.33503313e-03 9.92688787e-04]\n",
      " [5.95902365e+00 3.27038152e+00 4.42598009e-01 5.98991269e-02\n",
      "  8.10646530e-03 1.09709078e-03]\n",
      " [5.39194757e+00 3.61433054e+00 4.89146448e-01 6.61987730e-02\n",
      "  8.95902970e-03 1.21247282e-03]\n",
      " [4.87883592e+00 3.99445300e+00 5.40590429e-01 7.31609588e-02\n",
      "  9.90125908e-03 1.33998970e-03]\n",
      " [4.41455329e+00 4.41455329e+00 5.97444820e-01 8.08553640e-02\n",
      "  1.09425836e-02 1.48091765e-03]\n",
      " [3.99445300e+00 4.87883592e+00 6.60278641e-01 8.93589969e-02\n",
      "  1.20934251e-02 1.63666712e-03]\n",
      " [3.61433054e+00 5.39194757e+00 7.29720752e-01 9.87569646e-02\n",
      "  1.33653018e-02 1.80879690e-03]\n",
      " [3.27038152e+00 5.95902365e+00 8.06466153e-01 1.09143325e-01\n",
      "  1.47709428e-02 1.99902973e-03]\n",
      " [2.95916357e+00 6.58573963e+00 8.91282939e-01 1.20622029e-01\n",
      "  1.63244165e-02 2.20926952e-03]\n",
      " [2.67756192e+00 7.27836792e+00 9.85019983e-01 1.33307958e-01\n",
      "  1.80412703e-02 2.44162043e-03]\n",
      " [2.42275822e+00 8.04384055e+00 1.08861544e+00 1.47328079e-01\n",
      "  1.99386873e-02 2.69840789e-03]\n",
      " [2.19220229e+00 8.88981865e+00 1.20310612e+00 1.62822708e-01\n",
      "  2.20356573e-02 2.98220193e-03]\n",
      " [1.98358666e+00 9.82476904e+00 1.32963790e+00 1.79946922e-01\n",
      "  2.43531676e-02 3.29584284e-03]\n",
      " [1.79482343e+00 1.08580490e+01 1.46947714e+00 1.98872105e-01\n",
      "  2.69144126e-02 3.64246966e-03]\n",
      " [1.46947714e+00 1.08580490e+01 1.79482343e+00 2.42902937e-01\n",
      "  3.28733378e-02 4.44892249e-03]\n",
      " [1.32963790e+00 9.82476904e+00 1.98358666e+00 2.68449262e-01\n",
      "  3.63306569e-02 4.91681975e-03]\n",
      " [1.20310612e+00 8.88981865e+00 2.19220229e+00 2.96682318e-01\n",
      "  4.01515855e-02 5.43392619e-03]\n",
      " [1.08861544e+00 8.04384055e+00 2.42275822e+00 3.27884669e-01\n",
      "  4.43743646e-02 6.00541720e-03]\n",
      " [9.85019983e-01 7.27836792e+00 2.67756192e+00 3.62368601e-01\n",
      "  4.90412573e-02 6.63701244e-03]\n",
      " [8.91282939e-01 6.58573963e+00 2.95916357e+00 4.00479240e-01\n",
      "  5.41989713e-02 7.33503313e-03]\n",
      " [8.06466153e-01 5.95902365e+00 3.27038152e+00 4.42598009e-01\n",
      "  5.98991269e-02 8.10646530e-03]\n",
      " [7.29720752e-01 5.39194757e+00 3.61433054e+00 4.89146448e-01\n",
      "  6.61987730e-02 8.95902970e-03]\n",
      " [6.60278641e-01 4.87883592e+00 3.99445300e+00 5.40590429e-01\n",
      "  7.31609588e-02 9.90125908e-03]\n",
      " [5.97444820e-01 4.41455329e+00 4.41455329e+00 5.97444820e-01\n",
      "  8.08553640e-02 1.09425836e-02]\n",
      " [5.40590429e-01 3.99445300e+00 4.87883592e+00 6.60278641e-01\n",
      "  8.93589969e-02 1.20934251e-02]\n",
      " [4.89146448e-01 3.61433054e+00 5.39194757e+00 7.29720752e-01\n",
      "  9.87569646e-02 1.33653018e-02]\n",
      " [4.42598009e-01 3.27038152e+00 5.95902365e+00 8.06466153e-01\n",
      "  1.09143325e-01 1.47709428e-02]\n",
      " [4.00479240e-01 2.95916357e+00 6.58573963e+00 8.91282939e-01\n",
      "  1.20622029e-01 1.63244165e-02]\n",
      " [3.62368601e-01 2.67756192e+00 7.27836792e+00 9.85019983e-01\n",
      "  1.33307958e-01 1.80412703e-02]\n",
      " [3.27884669e-01 2.42275822e+00 8.04384055e+00 1.08861544e+00\n",
      "  1.47328079e-01 1.99386873e-02]\n",
      " [2.96682318e-01 2.19220229e+00 8.88981865e+00 1.20310612e+00\n",
      "  1.62822708e-01 2.20356573e-02]\n",
      " [2.68449262e-01 1.98358666e+00 9.82476904e+00 1.32963790e+00\n",
      "  1.79946922e-01 2.43531676e-02]\n",
      " [2.42902937e-01 1.79482343e+00 1.08580490e+01 1.46947714e+00\n",
      "  1.98872105e-01 2.69144126e-02]\n",
      " [1.98872105e-01 1.46947714e+00 1.08580490e+01 1.79482343e+00\n",
      "  2.42902937e-01 3.28733378e-02]\n",
      " [1.79946922e-01 1.32963790e+00 9.82476904e+00 1.98358666e+00\n",
      "  2.68449262e-01 3.63306569e-02]\n",
      " [1.62822708e-01 1.20310612e+00 8.88981865e+00 2.19220229e+00\n",
      "  2.96682318e-01 4.01515855e-02]\n",
      " [1.47328079e-01 1.08861544e+00 8.04384055e+00 2.42275822e+00\n",
      "  3.27884669e-01 4.43743646e-02]\n",
      " [1.33307958e-01 9.85019983e-01 7.27836792e+00 2.67756192e+00\n",
      "  3.62368601e-01 4.90412573e-02]\n",
      " [1.20622029e-01 8.91282939e-01 6.58573963e+00 2.95916357e+00\n",
      "  4.00479240e-01 5.41989713e-02]\n",
      " [1.09143325e-01 8.06466153e-01 5.95902365e+00 3.27038152e+00\n",
      "  4.42598009e-01 5.98991269e-02]\n",
      " [9.87569646e-02 7.29720752e-01 5.39194757e+00 3.61433054e+00\n",
      "  4.89146448e-01 6.61987730e-02]\n",
      " [8.93589969e-02 6.60278641e-01 4.87883592e+00 3.99445300e+00\n",
      "  5.40590429e-01 7.31609588e-02]\n",
      " [8.08553640e-02 5.97444820e-01 4.41455329e+00 4.41455329e+00\n",
      "  5.97444820e-01 8.08553640e-02]\n",
      " [7.31609588e-02 5.40590429e-01 3.99445300e+00 4.87883592e+00\n",
      "  6.60278641e-01 8.93589969e-02]\n",
      " [6.61987730e-02 4.89146448e-01 3.61433054e+00 5.39194757e+00\n",
      "  7.29720752e-01 9.87569646e-02]\n",
      " [5.98991269e-02 4.42598009e-01 3.27038152e+00 5.95902365e+00\n",
      "  8.06466153e-01 1.09143325e-01]\n",
      " [5.41989713e-02 4.00479240e-01 2.95916357e+00 6.58573963e+00\n",
      "  8.91282939e-01 1.20622029e-01]\n",
      " [4.90412573e-02 3.62368601e-01 2.67756192e+00 7.27836792e+00\n",
      "  9.85019983e-01 1.33307958e-01]\n",
      " [4.43743646e-02 3.27884669e-01 2.42275822e+00 8.04384055e+00\n",
      "  1.08861544e+00 1.47328079e-01]\n",
      " [4.01515855e-02 2.96682318e-01 2.19220229e+00 8.88981865e+00\n",
      "  1.20310612e+00 1.62822708e-01]\n",
      " [3.63306569e-02 2.68449262e-01 1.98358666e+00 9.82476904e+00\n",
      "  1.32963790e+00 1.79946922e-01]\n",
      " [3.28733378e-02 2.42902937e-01 1.79482343e+00 1.08580490e+01\n",
      "  1.46947714e+00 1.98872105e-01]\n",
      " [2.69144126e-02 1.98872105e-01 1.46947714e+00 1.08580490e+01\n",
      "  1.79482343e+00 2.42902937e-01]\n",
      " [2.43531676e-02 1.79946922e-01 1.32963790e+00 9.82476904e+00\n",
      "  1.98358666e+00 2.68449262e-01]\n",
      " [2.20356573e-02 1.62822708e-01 1.20310612e+00 8.88981865e+00\n",
      "  2.19220229e+00 2.96682318e-01]\n",
      " [1.99386873e-02 1.47328079e-01 1.08861544e+00 8.04384055e+00\n",
      "  2.42275822e+00 3.27884669e-01]\n",
      " [1.80412703e-02 1.33307958e-01 9.85019983e-01 7.27836792e+00\n",
      "  2.67756192e+00 3.62368601e-01]\n",
      " [1.63244165e-02 1.20622029e-01 8.91282939e-01 6.58573963e+00\n",
      "  2.95916357e+00 4.00479240e-01]\n",
      " [1.47709428e-02 1.09143325e-01 8.06466153e-01 5.95902365e+00\n",
      "  3.27038152e+00 4.42598009e-01]\n",
      " [1.33653018e-02 9.87569646e-02 7.29720752e-01 5.39194757e+00\n",
      "  3.61433054e+00 4.89146448e-01]\n",
      " [1.20934251e-02 8.93589969e-02 6.60278641e-01 4.87883592e+00\n",
      "  3.99445300e+00 5.40590429e-01]\n",
      " [1.09425836e-02 8.08553640e-02 5.97444820e-01 4.41455329e+00\n",
      "  4.41455329e+00 5.97444820e-01]\n",
      " [9.90125908e-03 7.31609588e-02 5.40590429e-01 3.99445300e+00\n",
      "  4.87883592e+00 6.60278641e-01]\n",
      " [8.95902970e-03 6.61987730e-02 4.89146448e-01 3.61433054e+00\n",
      "  5.39194757e+00 7.29720752e-01]\n",
      " [8.10646530e-03 5.98991269e-02 4.42598009e-01 3.27038152e+00\n",
      "  5.95902365e+00 8.06466153e-01]\n",
      " [7.33503313e-03 5.41989713e-02 4.00479240e-01 2.95916357e+00\n",
      "  6.58573963e+00 8.91282939e-01]\n",
      " [6.63701244e-03 4.90412573e-02 3.62368601e-01 2.67756192e+00\n",
      "  7.27836792e+00 9.85019983e-01]\n",
      " [6.00541720e-03 4.43743646e-02 3.27884669e-01 2.42275822e+00\n",
      "  8.04384055e+00 1.08861544e+00]\n",
      " [5.43392619e-03 4.01515855e-02 2.96682318e-01 2.19220229e+00\n",
      "  8.88981865e+00 1.20310612e+00]\n",
      " [4.91681975e-03 3.63306569e-02 2.68449262e-01 1.98358666e+00\n",
      "  9.82476904e+00 1.32963790e+00]\n",
      " [4.44892249e-03 3.28733378e-02 2.42902937e-01 1.79482343e+00\n",
      "  1.08580490e+01 1.46947714e+00]\n",
      " [3.64246966e-03 2.69144126e-02 1.98872105e-01 1.46947714e+00\n",
      "  1.08580490e+01 1.79482343e+00]\n",
      " [3.29584284e-03 2.43531676e-02 1.79946922e-01 1.32963790e+00\n",
      "  9.82476904e+00 1.98358666e+00]\n",
      " [2.98220193e-03 2.20356573e-02 1.62822708e-01 1.20310612e+00\n",
      "  8.88981865e+00 2.19220229e+00]\n",
      " [2.69840789e-03 1.99386873e-02 1.47328079e-01 1.08861544e+00\n",
      "  8.04384055e+00 2.42275822e+00]\n",
      " [2.44162043e-03 1.80412703e-02 1.33307958e-01 9.85019983e-01\n",
      "  7.27836792e+00 2.67756192e+00]\n",
      " [2.20926952e-03 1.63244165e-02 1.20622029e-01 8.91282939e-01\n",
      "  6.58573963e+00 2.95916357e+00]\n",
      " [1.99902973e-03 1.47709428e-02 1.09143325e-01 8.06466153e-01\n",
      "  5.95902365e+00 3.27038152e+00]\n",
      " [1.80879690e-03 1.33653018e-02 9.87569646e-02 7.29720752e-01\n",
      "  5.39194757e+00 3.61433054e+00]\n",
      " [1.63666712e-03 1.20934251e-02 8.93589969e-02 6.60278641e-01\n",
      "  4.87883592e+00 3.99445300e+00]\n",
      " [1.48091765e-03 1.09425836e-02 8.08553640e-02 5.97444820e-01\n",
      "  4.41455329e+00 4.41455329e+00]\n",
      " [1.33998970e-03 9.90125908e-03 7.31609588e-02 5.40590429e-01\n",
      "  3.99445300e+00 4.87883592e+00]\n",
      " [1.21247282e-03 8.95902970e-03 6.61987730e-02 4.89146448e-01\n",
      "  3.61433054e+00 5.39194757e+00]\n",
      " [1.09709078e-03 8.10646530e-03 5.98991269e-02 4.42598009e-01\n",
      "  3.27038152e+00 5.95902365e+00]\n",
      " [9.92688787e-04 7.33503313e-03 5.41989713e-02 4.00479240e-01\n",
      "  2.95916357e+00 6.58573963e+00]\n",
      " [8.98221959e-04 6.63701244e-03 4.90412573e-02 3.62368601e-01\n",
      "  2.67756192e+00 7.27836792e+00]\n",
      " [8.12744838e-04 6.00541720e-03 4.43743646e-02 3.27884669e-01\n",
      "  2.42275822e+00 8.04384055e+00]\n",
      " [7.35401941e-04 5.43392619e-03 4.01515855e-02 2.96682318e-01\n",
      "  2.19220229e+00 8.88981865e+00]\n",
      " [6.65419193e-04 4.91681975e-03 3.63306569e-02 2.68449262e-01\n",
      "  1.98358666e+00 9.82476904e+00]\n",
      " [6.02096185e-04 4.44892249e-03 3.28733378e-02 2.42902937e-01\n",
      "  1.79482343e+00 1.08580490e+01]]\n"
     ]
    }
   ],
   "source": [
    "cov_obs, cov_inc, cov_inc_obs, cov_obs_inc = [], [], [], []\n",
    "\n",
    "for i, L in enumerate(Sigma) :\n",
    "    for j, c in enumerate(L) :\n",
    "        if i in observation_indexes and j in observation_indexes :\n",
    "            cov_obs.append(c)\n",
    "        elif i in unknown_indexes and j in unknown_indexes :\n",
    "            cov_inc.append(c)\n",
    "        elif i in unknown_indexes and j in observation_indexes :\n",
    "            cov_inc_obs.append(c)\n",
    "        else :\n",
    "            cov_obs_inc.append(c)\n",
    "\n",
    "k = len(unknown_indexes)\n",
    "cov_obs = np.array(cov_obs).reshape(6, 6)  # correspond à C_v dan sl partie théorique\n",
    "cov_inc = np.array(cov_inc).reshape(k, k) #C_u dans la partie théorique\n",
    "cov_inc_obs = np.array(cov_inc_obs).reshape(k, 6) #C_u,v dans la partie théorique\n",
    "cov_obs_inc = np.array(cov_obs_inc).reshape(6, k) #C_v,u dans la partie théorique\n",
    "\n",
    "print(f\" matrice de covariance entre les observations : {cov_obs}\")\n",
    "print (f\" matrice de covariance entre les inconnues : {cov_inc}\")\n",
    "print(f\" matrice de covariance entre les observations et les inconnues : {cov_obs_inc}\")\n",
    "print(f\" matrice de covariance entre les inconnues et les observations : {cov_inc_obs}\")"
   ]
  },
  {
   "cell_type": "markdown",
   "metadata": {},
   "source": [
    "### Espérance conditionnelle"
   ]
  },
  {
   "cell_type": "code",
   "execution_count": 11,
   "metadata": {},
   "outputs": [
    {
     "name": "stdout",
     "output_type": "stream",
     "text": [
      "espérance conditionnelle = [ -0.46688335  -0.88839774  -1.26876184  -1.61178245  -1.92089264\n",
      "  -2.19918609  -2.44944805  -2.67418323  -2.87564085  -3.05583718\n",
      "  -3.21657567  -3.35946505  -3.4859354   -3.59725249  -3.69453041\n",
      "  -3.77874275  -3.85073233  -3.91121966  -3.96081011  -4.31432093\n",
      "  -4.62177936  -4.92545243  -5.2283794   -5.53359206  -5.8441451\n",
      "  -6.16314662  -6.49378931  -6.83938234  -7.20338453  -7.58943893\n",
      "  -8.00140931  -8.4434188   -8.91989118  -9.43559515  -9.99569205\n",
      " -10.60578751 -11.27198758 -12.00095981 -11.91810571 -11.10545015\n",
      " -10.35389999  -9.65593346  -9.00456508  -8.39327573  -7.81594742\n",
      "  -7.26680206  -6.74034362  -6.23130312  -5.73458592  -5.2452207\n",
      "  -4.75830973  -4.26897984  -3.77233366  -3.26340058  -2.73708703\n",
      "  -2.18812549  -1.61102176  -1.43702815  -1.83839689  -2.20812324\n",
      "  -2.54990754  -2.8671705   -3.16308739  -3.44061983  -3.70254547\n",
      "  -3.95148576  -4.18993216  -4.42027113  -4.64480797  -4.86578994\n",
      "  -5.08542869  -5.30592243  -5.52947795  -5.75833267  -5.99477703\n",
      "  -6.24117745  -6.21355942  -5.93926455  -5.67437016  -5.41622509\n",
      "  -5.16224574  -4.9098902   -4.65663281  -4.39993889  -4.13723936\n",
      "  -3.86590502  -3.58322028  -3.28635594  -2.97234087  -2.6380323\n",
      "  -2.28008437  -1.89491461  -1.47866811  -1.02717893  -0.53592843] \n"
     ]
    }
   ],
   "source": [
    "esp_cond = mu*np.ones(k) + np.dot(np.dot(cov_inc_obs, np.linalg.inv(cov_obs)), depth - mu*np.ones(6)) #calcul de l'espérance conditionnelle des composantes non observées sachant les observations\n",
    "print (f\"espérance conditionnelle = {esp_cond} \")"
   ]
  },
  {
   "cell_type": "markdown",
   "metadata": {},
   "source": [
    "#### Tracé de l'espérance conditionnelle en fonction des données"
   ]
  },
  {
   "cell_type": "code",
   "execution_count": 12,
   "metadata": {},
   "outputs": [
    {
     "data": {
      "text/plain": [
       "[<matplotlib.lines.Line2D at 0x2d948110908>]"
      ]
     },
     "execution_count": 12,
     "metadata": {},
     "output_type": "execute_result"
    },
    {
     "data": {
      "image/png": "[encoded data removed]",
      "text/plain": [
       "<Figure size 432x288 with 1 Axes>"
      ]
     },
     "metadata": {
      "needs_background": "light"
     },
     "output_type": "display_data"
    }
   ],
   "source": [
    "plt.plot(unknown_indexes, esp_cond)"
   ]
  },
  {
   "cell_type": "markdown",
   "metadata": {},
   "source": [
    "### Variance conditionnelle"
   ]
  },
  {
   "cell_type": "code",
   "execution_count": 14,
   "metadata": {},
   "outputs": [
    {
     "name": "stdout",
     "output_type": "stream",
     "text": [
      "matrice de covariance conditionnelle = [[ 2.16624554e+00  1.95016959e+00  1.75361159e+00 ...  1.62630326e-19\n",
      "   9.21571847e-19  0.00000000e+00]\n",
      " [ 1.95016959e+00  3.91985713e+00  3.52477392e+00 ... -1.08420217e-19\n",
      "   8.13151629e-19  9.21571847e-19]\n",
      " [ 1.75361159e+00  3.52477392e+00  5.33121337e+00 ... -8.67361738e-19\n",
      "  -1.62630326e-19  1.08420217e-19]\n",
      " ...\n",
      " [ 1.62630326e-19 -1.08420217e-19 -8.67361738e-19 ...  5.33121337e+00\n",
      "   3.52477392e+00  1.75361159e+00]\n",
      " [ 9.21571847e-19  8.13151629e-19 -1.62630326e-19 ...  3.52477392e+00\n",
      "   3.91985713e+00  1.95016959e+00]\n",
      " [ 0.00000000e+00  9.21571847e-19  1.08420217e-19 ...  1.75361159e+00\n",
      "   1.95016959e+00  2.16624554e+00]]\n",
      "variance conditionnelle = [2.16624554 3.91985713 5.33121337 6.45695694 7.34226788 8.02267682\n",
      " 8.52549097 8.87089003 9.07273607 9.13912987 9.07273607 8.87089003\n",
      " 8.52549097 8.02267682 7.34226788 6.45695694 5.33121337 3.91985713\n",
      " 2.16624554 2.16624554 3.91985713 5.33121337 6.45695694 7.34226788\n",
      " 8.02267682 8.52549097 8.87089003 9.07273607 9.13912987 9.07273607\n",
      " 8.87089003 8.52549097 8.02267682 7.34226788 6.45695694 5.33121337\n",
      " 3.91985713 2.16624554 2.16624554 3.91985713 5.33121337 6.45695694\n",
      " 7.34226788 8.02267682 8.52549097 8.87089003 9.07273607 9.13912987\n",
      " 9.07273607 8.87089003 8.52549097 8.02267682 7.34226788 6.45695694\n",
      " 5.33121337 3.91985713 2.16624554 2.16624554 3.91985713 5.33121337\n",
      " 6.45695694 7.34226788 8.02267682 8.52549097 8.87089003 9.07273607\n",
      " 9.13912987 9.07273607 8.87089003 8.52549097 8.02267682 7.34226788\n",
      " 6.45695694 5.33121337 3.91985713 2.16624554 2.16624554 3.91985713\n",
      " 5.33121337 6.45695694 7.34226788 8.02267682 8.52549097 8.87089003\n",
      " 9.07273607 9.13912987 9.07273607 8.87089003 8.52549097 8.02267682\n",
      " 7.34226788 6.45695694 5.33121337 3.91985713 2.16624554]\n"
     ]
    }
   ],
   "source": [
    "cov_cond = cov_inc - np.dot(np.dot(cov_inc_obs, np.linalg.inv(cov_obs)), cov_obs_inc) # problème rencontré : cette matrice n'est pas symétrique, après vérification, cela est sûrement dû à une erreur d'arrondi. Idée : corriger cette erreur (cf ci-dessous)\n",
    "cov_cond = (1/2)*(cov_cond + np.transpose(cov_cond))\n",
    "var_cond = np.diag(cov_cond)\n",
    "\n",
    "print(f\"matrice de covariance conditionnelle = {cov_cond}\")\n",
    "print(f\"variance conditionnelle = {var_cond}\")"
   ]
  },
  {
   "cell_type": "markdown",
   "metadata": {},
   "source": [
    "#### Tracé de la variance conditionnelle en fonction de la position"
   ]
  },
  {
   "cell_type": "code",
   "execution_count": 15,
   "metadata": {},
   "outputs": [
    {
     "data": {
      "text/plain": [
       "[<matplotlib.lines.Line2D at 0x2d9481bc710>]"
      ]
     },
     "execution_count": 15,
     "metadata": {},
     "output_type": "execute_result"
    },
    {
     "data": {
      "image/png": "[encoded data removed]",
      "text/plain": [
       "<Figure size 432x288 with 1 Axes>"
      ]
     },
     "metadata": {
      "needs_background": "light"
     },
     "output_type": "display_data"
    }
   ],
   "source": [
    "plt.plot(unknown_indexes, var_cond)"
   ]
  },
  {
   "cell_type": "markdown",
   "metadata": {},
   "source": [
    "La variance conditionnelle est d'autant plus élevée qu'on s'éloigne des positions où la profondeur est connue. En ces points d'observation, la variance doit être nulle : les profondeurs connues $(Z(x_{j_1}), \\ldots, Z(x_{j_n}))$ où ${j_1, \\ldots, j_n} =$ sont les indices des positions d'observation sont des variables alétoires presque sûrement constantes."
   ]
  },
  {
   "cell_type": "markdown",
   "metadata": {},
   "source": [
    "### Simulation conditionnelle"
   ]
  },
  {
   "cell_type": "markdown",
   "metadata": {},
   "source": [
    "On applique l'algorithme décrit dans la question n°4 de la partie théorique."
   ]
  },
  {
   "cell_type": "code",
   "execution_count": 16,
   "metadata": {},
   "outputs": [
    {
     "name": "stdout",
     "output_type": "stream",
     "text": [
      "vecteur des profondeurs : [  0.          -0.41390659  -0.24757701  -2.34846893  -2.88483738\n",
      "  -3.70103602  -3.39300925  -4.74209897  -5.22177985  -5.36259599\n",
      "  -2.76717785  -2.88993947  -2.35677933  -3.30091073  -2.49248036\n",
      "  -3.20468935  -4.6513657   -3.45057568  -3.43669622  -4.20627895\n",
      "  -4.          -0.57013134  -2.32576749  -3.96295599  -6.22170848\n",
      "  -5.82325079  -6.14773083  -6.13166785  -6.97167189  -7.52967446\n",
      "  -8.77668391 -10.32973402 -12.12140348 -11.68802703 -11.4519365\n",
      " -12.55777629 -13.07911228 -13.8042294  -14.17219442 -12.97136014\n",
      " -12.8        -10.24243453  -9.29917152 -10.03923247 -11.30271297\n",
      " -11.45584044  -8.29507743  -6.92508994  -9.77983762  -8.9045325\n",
      "  -8.09507709  -7.16311604  -7.91564312  -5.93930126  -6.50902252\n",
      "  -5.01516887  -2.19411717  -3.13478002  -1.74295316  -4.42734308\n",
      "  -1.          -1.37538103  -2.67844818  -4.17152273  -4.43680146\n",
      "  -4.77039252  -6.89416335  -7.75568953  -6.80978591  -6.49951233\n",
      "  -7.70391876  -6.73083775  -5.9558808   -4.68577894  -3.01340442\n",
      "  -1.05714169  -0.48747628  -3.77616915  -3.93611662  -4.44239968\n",
      "  -6.5         -7.51678742  -4.10222305  -4.88860461  -3.08449904\n",
      "  -4.06333475  -4.00082319  -5.09832414  -6.0803561   -4.70010839\n",
      "  -3.76414708  -5.02623586  -4.69538738  -3.83333558  -2.84222909\n",
      "  -1.64580066  -1.53202864  -2.24650502  -2.06382129   0.41692524\n",
      "   0.        ]\n"
     ]
    }
   ],
   "source": [
    "Y=np.random.normal(0,1,95) #simule un vesteur gaussien de même taille k que unknown_indexes,ave k variables aléatoires indépendantes suivant une loi normale centrée réduite \n",
    "\n",
    "depth_inc = esp_cond + np.dot(np.linalg.cholesky(cov_cond), Y) #simulation conditionnelle du vecteur des profondeurs inconnues, en suivant le calcul décrit dans la question théorique numéro 3\n",
    "depth_tot = list(depth_inc)\n",
    "for i in observation_indexes : #le but de cette boucle est de compléter le vecteur des profondeurs inconnues en y insérant aux bonnes positions les profondeurs connues\n",
    "    depth_tot = depth_tot[:i] + [depth[i//20]] + depth_tot[i:]\n",
    "\n",
    "Z = np.array(depth_tot) # ainsi, Z est le vecteur des profondeurs (connues et simulées) : on a la profondeur pour tous les points indexés\n",
    "\n",
    "print(f\"vecteur des profondeurs : {Z}\")"
   ]
  },
  {
   "cell_type": "markdown",
   "metadata": {},
   "source": [
    "#### Tracé de la simulation conditionnelle et de l'espérance conditionnelle"
   ]
  },
  {
   "cell_type": "code",
   "execution_count": 18,
   "metadata": {},
   "outputs": [
    {
     "data": {
      "text/plain": [
       "[<matplotlib.lines.Line2D at 0x2d948269e10>]"
      ]
     },
     "execution_count": 18,
     "metadata": {},
     "output_type": "execute_result"
    },
    {
     "data": {
      "image/png": "[encoded data removed]",
      "text/plain": [
       "<Figure size 432x288 with 1 Axes>"
      ]
     },
     "metadata": {
      "needs_background": "light"
     },
     "output_type": "display_data"
    }
   ],
   "source": [
    "plt.plot(unknown_indexes, esp_cond, color = 'b') #espérance conditionnelle en bleu\n",
    "plt.plot(np.linspace(0,100,101), Z, color = 'r') #simulation en rouge"
   ]
  },
  {
   "cell_type": "markdown",
   "metadata": {},
   "source": [
    "On remarque que la simulation \"suit\" l'espérance conditionnelle : les valeurs obtenues restent groupées autour de l'espérance conditionnelle. La valeur prise en un point x par l'espérance conditionnelle est en effet la plus probable : cela est dû au fait qu'on simule ici un vecteur gaussien."
   ]
  },
  {
   "cell_type": "code",
   "execution_count": null,
   "metadata": {},
   "outputs": [],
   "source": []
  }
 ],
 "metadata": {
  "kernelspec": {
   "display_name": "Python 3",
   "language": "python",
   "name": "python3"
  },
  "language_info": {
   "codemirror_mode": {
    "name": "ipython",
    "version": 3
   },
   "file_extension": ".py",
   "mimetype": "text/x-python",
   "name": "python",
   "nbconvert_exporter": "python",
   "pygments_lexer": "ipython3",
   "version": "3.6.3"
  }
 },
 "nbformat": 4,
 "nbformat_minor": 2
}
