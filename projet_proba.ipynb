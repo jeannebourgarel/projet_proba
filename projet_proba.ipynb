{
 "cells": [
  {
   "cell_type": "markdown",
   "metadata": {},
   "source": [
    "# Projet numérique : câble sous-marin"
   ]
  },
  {
   "cell_type": "markdown",
   "metadata": {},
   "source": [
    "## Questions théoriques"
   ]
  },
  {
   "cell_type": "markdown",
   "metadata": {},
   "source": [
    "1) La loi des grands nombres permet, pour un nombre suffisamment important de simulations conditionnelles, d'estimer l'espérance conditionnelle comme la moyenne empirique de simulations conditionnelles."
   ]
  },
  {
   "cell_type": "markdown",
   "metadata": {},
   "source": [
    "2) On note U le vecteur des composantes de Z correspondant aux points de discrétisation sans observation, V celui corresppndant aux points de discrétisation avec observation. \n",
    "La loi conditionnelle de U sachant $V=v$ est définie par la densité conditionnelle suivante : \n",
    "$f_{U|V = v}(u) = \\frac{1}{(2\\pi)^{n/2}\\sqrt{\\det(CS_{U})}}\\exp(-\\frac{1}{2}(u - m_{U|V=v}){}^tCS_{U}^{-1}(u-m_{U|V=v})$.\n",
    "En effet, le vecteur des profondeurs $Z$ est gaussien à densité et (au réordonnement des indices près) est tel que $Z = (Z_{1},\\ldots,Z_{N})$ avec $U = (Z_1 ,\\ldots,Z_{N-n+1}$ et $V = (Z_{N-n},\\ldots,Z_N)$.\n",
    "$CS_{U}$ désigne le complément de Schur du bloc $C_U$ de la matrice de covariance $C$ de $Z$ définie par blocs : $\\begin{pmatrix} C_U&C_{U,V} \\\\ C_{V,U}&C_{V} \\end{pmatrix}$ où $C_U = Cov(U,U)$, $C_Z = Cov(V,V)$ et $C_{U,V} = Cov(U,V)$.\n",
    "On a donc $CS_U = C_U - C_{U,V}C_{V}^{-1}C_{V,U}$.\n",
    "$m_{U|V=v} = m_U + C_{U,V}C_{V}^{-1}(v-m_V)$ est l'espérance conditionnelle de $U$ sachant $V$ ;  et CS_U est la covariance conditionnelle de $U$ sachant $V$."
   ]
  },
  {
   "cell_type": "markdown",
   "metadata": {},
   "source": [
    "3) Si $Y = (Y_1,\\ldots,Y_p)$ est un vecteur de composantes gaussiennes indépendantes, toutes d'espérance nulle et de variance 1, alors le vecteur $Z=m+RY$ (où $R$ est une matrice $p\\times p$ et $m$ est un vecteur de taille $p$) est gaussien d'espérance $m$ et de matrice de covariance $RR^{t}$."
   ]
  },
  {
   "cell_type": "markdown",
   "metadata": {},
   "source": [
    "4) Algorithme de simulation conditionnelle :\n",
    "Calcul de la matrice de covariance du vecteur des profondeurs $Z$, grâce à la fonction $C$.\n",
    "On extrait de cette matrice les blocs $C_U$, $C_{U,V}$, $C_{V,U}$,$C_V$ (on tient compte des indices des points d'observation).\n",
    "Calcul de l'espérance conditionnelle $m$ de $U$ sachant $V$, grâce aux blocs extraits à l'étape précédente.\n",
    "Calcul de la covariance conditionnelle $CS_U$. Comme la matrice de covariance $C$ du vecteur des profondeurs $Z$ est définie positive, $CS_U$ est aussi définie positive, on peut donc écrire sa décomposition de Cholesky $CS_U = RR^{t}$.\n",
    "Simulation d'un vecteur gaussien $Y$ de $k$ variables indépendantes d'espérance nulle et de variance 1 (où $k$ est le nombre de points de discrétisation sans observation).\n",
    "Calcul de $U = m + RY$.\n",
    "On ainsi effectué une simulation conditionnelle de $U$ sachant $V = v$."
   ]
  },
  {
   "cell_type": "markdown",
   "metadata": {},
   "source": [
    "## Données"
   ]
  },
  {
   "cell_type": "code",
   "execution_count": 1,
   "metadata": {},
   "outputs": [],
   "source": [
    "import numpy as np\n",
    "from math import*\n",
    "import matplotlib.pyplot as plt"
   ]
  },
  {
   "cell_type": "code",
   "execution_count": 3,
   "metadata": {},
   "outputs": [],
   "source": [
    "# Discrétisation\n",
    "\n",
    "A = 0\n",
    "B = 500\n",
    "N = 101  #Nombre de points de discrétisation\n",
    "Delta = (B-A)/(N-1)\n",
    "discretization_indexes = np.arange(N)\n",
    "discretization = Delta * discretization_indexes\n",
    "\n",
    "# Paramètres du modèle\n",
    "\n",
    "a = 50\n",
    "sigma_2 = 12\n",
    "mu = -5\n",
    "\n",
    "# Données\n",
    "\n",
    "observation_indexes = [k for k in range(0, N, 20)]\n",
    "depth = np.array([0, -4, -12.8, -1, -6.5, 0])\n",
    "\n",
    "# Indices des composants correspondants aux observations et aux composantes non observ&es\n",
    "\n",
    "unknown_indexes = list(set(discretization_indexes) - set(observation_indexes))"
   ]
  },
  {
   "cell_type": "markdown",
   "metadata": {},
   "source": [
    "## Questions"
   ]
  },
  {
   "cell_type": "markdown",
   "metadata": {},
   "source": [
    "### Covariance"
   ]
  },
  {
   "cell_type": "code",
   "execution_count": 7,
   "metadata": {},
   "outputs": [
    {
     "name": "stdout",
     "output_type": "stream",
     "text": [
      "distances : [[   0.   -5.  -10. ... -490. -495. -500.]\n",
      " [   5.    0.   -5. ... -485. -490. -495.]\n",
      " [  10.    5.    0. ... -480. -485. -490.]\n",
      " ...\n",
      " [ 490.  485.  480. ...    0.   -5.  -10.]\n",
      " [ 495.  490.  485. ...    5.    0.   -5.]\n",
      " [ 500.  495.  490. ...   10.    5.    0.]]\n",
      "matrice de covariance : [[1.20000000e+01 1.08580490e+01 9.82476904e+00 ... 6.65419193e-04\n",
      "  6.02096185e-04 5.44799157e-04]\n",
      " [1.08580490e+01 1.20000000e+01 1.08580490e+01 ... 7.35401941e-04\n",
      "  6.65419193e-04 6.02096185e-04]\n",
      " [9.82476904e+00 1.08580490e+01 1.20000000e+01 ... 8.12744838e-04\n",
      "  7.35401941e-04 6.65419193e-04]\n",
      " ...\n",
      " [6.65419193e-04 7.35401941e-04 8.12744838e-04 ... 1.20000000e+01\n",
      "  1.08580490e+01 9.82476904e+00]\n",
      " [6.02096185e-04 6.65419193e-04 7.35401941e-04 ... 1.08580490e+01\n",
      "  1.20000000e+01 1.08580490e+01]\n",
      " [5.44799157e-04 6.02096185e-04 6.65419193e-04 ... 9.82476904e+00\n",
      "  1.08580490e+01 1.20000000e+01]]\n"
     ]
    }
   ],
   "source": [
    "def covariance(a, sigma2, h) :\n",
    "    return sigma2 * np.exp(-np.abs(h)/a)\n",
    "\n",
    "X = np.linspace(A, B, N)\n",
    "distance = np.array([[X[i] - X[j] for j in range(N)] for i in range(N)])\n",
    "print(f\"distances : {distance}\")\n",
    "\n",
    "Sigma = covariance(a, sigma_2, distance)\n",
    "print(f\"matrice de covariance : {Sigma}\")"
   ]
  },
  {
   "cell_type": "code",
   "execution_count": null,
   "metadata": {},
   "outputs": [],
   "source": []
  }
 ],
 "metadata": {
  "kernelspec": {
   "display_name": "Python 3",
   "language": "python",
   "name": "python3"
  },
  "language_info": {
   "codemirror_mode": {
    "name": "ipython",
    "version": 3
   },
   "file_extension": ".py",
   "mimetype": "text/x-python",
   "name": "python",
   "nbconvert_exporter": "python",
   "pygments_lexer": "ipython3",
   "version": "3.6.3"
  }
 },
 "nbformat": 4,
 "nbformat_minor": 2
}
