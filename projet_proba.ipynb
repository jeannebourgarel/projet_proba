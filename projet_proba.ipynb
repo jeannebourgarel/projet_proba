{
 "cells": [
  {
   "cell_type": "markdown",
   "metadata": {},
   "source": [
    "# Projet numérique : câble sous-marin"
   ]
  },
  {
   "cell_type": "markdown",
   "metadata": {},
   "source": [
    "## Questions théoriques"
   ]
  },
  {
   "cell_type": "markdown",
   "metadata": {},
   "source": [
    "1) La loi des grands nombres permet, pour un nombre suffisamment important de simulations conditionnelles, d'estimer l'espérance conditionnelle comme la moyenne empirique de simulations conditionnelles."
   ]
  },
  {
   "cell_type": "markdown",
   "metadata": {},
   "source": [
    "2) On note $U$ le vecteur des composantes de $Z$ correspondant aux points de discrétisation sans observation, $V$ celui correspondant aux points de discrétisation avec observation. \n",
    "La loi conditionnelle de U sachant $V=v$ est définie par la densité conditionnelle suivante : \n",
    "$f_{U|V = v}(u) = \\frac{1}{(2\\pi)^{n/2}\\sqrt{\\det(CS_{U})}}\\exp(-\\frac{1}{2}(u - m_{U|V=v}){}^tCS_{U}^{-1}(u-m_{U|V=v})$.\n",
    "En effet, le vecteur des profondeurs $Z$ est gaussien à densité et (au réordonnement des indices près) est tel que $Z = (Z_{1},\\ldots,Z_{N})$ avec $U = (Z_1 ,\\ldots,Z_{N-n+1}$ et $V = (Z_{N-n},\\ldots,Z_N)$.\n",
    "$CS_{U}$ désigne le complément de Schur du bloc $C_U$ de la matrice de covariance $C$ de $Z$ définie par blocs : $\\begin{pmatrix} C_U&C_{U,V} \\\\ C_{V,U}&C_{V} \\end{pmatrix}$ où $C_U = Cov(U,U)$, $C_Z = Cov(V,V)$ et $C_{U,V} = Cov(U,V)$.\n",
    "On a donc $CS_U = C_U - C_{U,V}C_{V}^{-1}C_{V,U}$.\n",
    "$m_{U|V=v} = m_U + C_{U,V}C_{V}^{-1}(v-m_V)$ est l'espérance conditionnelle de $U$ sachant $V$ ;  et CS_U est la covariance conditionnelle de $U$ sachant $V$."
   ]
  },
  {
   "cell_type": "markdown",
   "metadata": {},
   "source": [
    "3) Si $Y = (Y_1,\\ldots,Y_p)$ est un vecteur de composantes gaussiennes indépendantes, toutes d'espérance nulle et de variance 1, alors le vecteur $Z=m+RY$ (où $R$ est une matrice $p\\times p$ et $m$ est un vecteur de taille $p$) est gaussien d'espérance $m$ et de matrice de covariance $RR^{t}$."
   ]
  },
  {
   "cell_type": "markdown",
   "metadata": {},
   "source": [
    "4) Algorithme de simulation conditionnelle :\n",
    "Calcul de la matrice de covariance du vecteur des profondeurs $Z$, grâce à la fonction $C$.\n",
    "On extrait de cette matrice les blocs $C_U$, $C_{U,V}$, $C_{V,U}$,$C_V$ (on tient compte des indices des points d'observation).\n",
    "Calcul de l'espérance conditionnelle $m$ de $U$ sachant $V$, grâce aux blocs extraits à l'étape précédente.\n",
    "Calcul de la covariance conditionnelle $CS_U$. Comme la matrice de covariance $C$ du vecteur des profondeurs $Z$ est définie positive, $CS_U$ est aussi définie positive, on peut donc écrire sa décomposition de Cholesky $CS_U = RR^{t}$.\n",
    "Simulation d'un vecteur gaussien $Y$ de $k$ variables indépendantes d'espérance nulle et de variance 1 (où $k$ est le nombre de points de discrétisation sans observation).\n",
    "Calcul de $U = m + RY$.\n",
    "On ainsi effectué une simulation conditionnelle de $U$ sachant $V = v$."
   ]
  },
  {
   "cell_type": "markdown",
   "metadata": {},
   "source": [
    "## Données"
   ]
  },
  {
   "cell_type": "code",
   "execution_count": 1,
   "metadata": {},
   "outputs": [],
   "source": [
    "import numpy as np\n",
    "from math import*\n",
    "import matplotlib.pyplot as plt"
   ]
  },
  {
   "cell_type": "code",
   "execution_count": 2,
   "metadata": {},
   "outputs": [],
   "source": [
    "# Discrétisation\n",
    "\n",
    "A = 0\n",
    "B = 500\n",
    "N = 101  #Nombre de points de discrétisation\n",
    "Delta = (B-A)/(N-1)\n",
    "discretization_indexes = np.arange(N)\n",
    "discretization = Delta * discretization_indexes\n",
    "\n",
    "# Paramètres du modèle\n",
    "\n",
    "a = 50\n",
    "sigma_2 = 12\n",
    "mu = -5\n",
    "\n",
    "# Données\n",
    "\n",
    "observation_indexes = [k for k in range(0, N, 20)]\n",
    "depth = np.array([0, -4, -12.8, -1, -6.5, 0])\n",
    "\n",
    "# Indices des composants correspondants aux observations et aux composantes non observ&es\n",
    "\n",
    "unknown_indexes = list(set(discretization_indexes) - set(observation_indexes))"
   ]
  },
  {
   "cell_type": "markdown",
   "metadata": {},
   "source": [
    "## Questions"
   ]
  },
  {
   "cell_type": "markdown",
   "metadata": {},
   "source": [
    "### Covariance"
   ]
  },
  {
   "cell_type": "code",
   "execution_count": 3,
   "metadata": {},
   "outputs": [
    {
     "name": "stdout",
     "output_type": "stream",
     "text": [
      "distances : [[   0.   -5.  -10. ... -490. -495. -500.]\n",
      " [   5.    0.   -5. ... -485. -490. -495.]\n",
      " [  10.    5.    0. ... -480. -485. -490.]\n",
      " ...\n",
      " [ 490.  485.  480. ...    0.   -5.  -10.]\n",
      " [ 495.  490.  485. ...    5.    0.   -5.]\n",
      " [ 500.  495.  490. ...   10.    5.    0.]]\n",
      "matrice de covariance : [[1.20000000e+01 1.08580490e+01 9.82476904e+00 ... 6.65419193e-04\n",
      "  6.02096185e-04 5.44799157e-04]\n",
      " [1.08580490e+01 1.20000000e+01 1.08580490e+01 ... 7.35401941e-04\n",
      "  6.65419193e-04 6.02096185e-04]\n",
      " [9.82476904e+00 1.08580490e+01 1.20000000e+01 ... 8.12744838e-04\n",
      "  7.35401941e-04 6.65419193e-04]\n",
      " ...\n",
      " [6.65419193e-04 7.35401941e-04 8.12744838e-04 ... 1.20000000e+01\n",
      "  1.08580490e+01 9.82476904e+00]\n",
      " [6.02096185e-04 6.65419193e-04 7.35401941e-04 ... 1.08580490e+01\n",
      "  1.20000000e+01 1.08580490e+01]\n",
      " [5.44799157e-04 6.02096185e-04 6.65419193e-04 ... 9.82476904e+00\n",
      "  1.08580490e+01 1.20000000e+01]]\n"
     ]
    }
   ],
   "source": [
    "def covariance(a, sigma2, h) :\n",
    "    return sigma2 * np.exp(-np.abs(h)/a)\n",
    "\n",
    "X = np.linspace(A, B, N)\n",
    "distance = np.array([[X[i] - X[j] for j in range(N)] for i in range(N)])\n",
    "print(f\"distances : {distance}\")\n",
    "\n",
    "Sigma = covariance(a, sigma_2, distance)\n",
    "print(f\"matrice de covariance : {Sigma}\")"
   ]
  },
  {
   "cell_type": "markdown",
   "metadata": {},
   "source": [
    "### Extraction"
   ]
  },
  {
   "cell_type": "code",
   "execution_count": 4,
   "metadata": {},
   "outputs": [
    {
     "name": "stdout",
     "output_type": "stream",
     "text": [
      " matrice de covariance entre les observations : [[1.20000000e+01 1.62402340e+00 2.19787667e-01 2.97450261e-02\n",
      "  4.02555153e-03 5.44799157e-04]\n",
      " [1.62402340e+00 1.20000000e+01 1.62402340e+00 2.19787667e-01\n",
      "  2.97450261e-02 4.02555153e-03]\n",
      " [2.19787667e-01 1.62402340e+00 1.20000000e+01 1.62402340e+00\n",
      "  2.19787667e-01 2.97450261e-02]\n",
      " [2.97450261e-02 2.19787667e-01 1.62402340e+00 1.20000000e+01\n",
      "  1.62402340e+00 2.19787667e-01]\n",
      " [4.02555153e-03 2.97450261e-02 2.19787667e-01 1.62402340e+00\n",
      "  1.20000000e+01 1.62402340e+00]\n",
      " [5.44799157e-04 4.02555153e-03 2.97450261e-02 2.19787667e-01\n",
      "  1.62402340e+00 1.20000000e+01]]\n",
      " matrice de covariance entre les inconnues : [[1.20000000e+01 1.08580490e+01 9.82476904e+00 ... 8.12744838e-04\n",
      "  7.35401941e-04 6.65419193e-04]\n",
      " [1.08580490e+01 1.20000000e+01 1.08580490e+01 ... 8.98221959e-04\n",
      "  8.12744838e-04 7.35401941e-04]\n",
      " [9.82476904e+00 1.08580490e+01 1.20000000e+01 ... 9.92688787e-04\n",
      "  8.98221959e-04 8.12744838e-04]\n",
      " ...\n",
      " [8.12744838e-04 8.98221959e-04 9.92688787e-04 ... 1.20000000e+01\n",
      "  1.08580490e+01 9.82476904e+00]\n",
      " [7.35401941e-04 8.12744838e-04 8.98221959e-04 ... 1.08580490e+01\n",
      "  1.20000000e+01 1.08580490e+01]\n",
      " [6.65419193e-04 7.35401941e-04 8.12744838e-04 ... 9.82476904e+00\n",
      "  1.08580490e+01 1.20000000e+01]]\n",
      " matrice de covariance entre les observations et les inconnues : [[1.08580490e+01 9.82476904e+00 8.88981865e+00 8.04384055e+00\n",
      "  7.27836792e+00 6.58573963e+00 5.95902365e+00 5.39194757e+00\n",
      "  4.87883592e+00 4.41455329e+00 3.99445300e+00 3.61433054e+00\n",
      "  3.27038152e+00 2.95916357e+00 2.67756192e+00 2.42275822e+00\n",
      "  2.19220229e+00 1.98358666e+00 1.79482343e+00 1.46947714e+00\n",
      "  1.32963790e+00 1.20310612e+00 1.08861544e+00 9.85019983e-01\n",
      "  8.91282939e-01 8.06466153e-01 7.29720752e-01 6.60278641e-01\n",
      "  5.97444820e-01 5.40590429e-01 4.89146448e-01 4.42598009e-01\n",
      "  4.00479240e-01 3.62368601e-01 3.27884669e-01 2.96682318e-01\n",
      "  2.68449262e-01 2.42902937e-01 1.98872105e-01 1.79946922e-01\n",
      "  1.62822708e-01 1.47328079e-01 1.33307958e-01 1.20622029e-01\n",
      "  1.09143325e-01 9.87569646e-02 8.93589969e-02 8.08553640e-02\n",
      "  7.31609588e-02 6.61987730e-02 5.98991269e-02 5.41989713e-02\n",
      "  4.90412573e-02 4.43743646e-02 4.01515855e-02 3.63306569e-02\n",
      "  3.28733378e-02 2.69144126e-02 2.43531676e-02 2.20356573e-02\n",
      "  1.99386873e-02 1.80412703e-02 1.63244165e-02 1.47709428e-02\n",
      "  1.33653018e-02 1.20934251e-02 1.09425836e-02 9.90125908e-03\n",
      "  8.95902970e-03 8.10646530e-03 7.33503313e-03 6.63701244e-03\n",
      "  6.00541720e-03 5.43392619e-03 4.91681975e-03 4.44892249e-03\n",
      "  3.64246966e-03 3.29584284e-03 2.98220193e-03 2.69840789e-03\n",
      "  2.44162043e-03 2.20926952e-03 1.99902973e-03 1.80879690e-03\n",
      "  1.63666712e-03 1.48091765e-03 1.33998970e-03 1.21247282e-03\n",
      "  1.09709078e-03 9.92688787e-04 8.98221959e-04 8.12744838e-04\n",
      "  7.35401941e-04 6.65419193e-04 6.02096185e-04]\n",
      " [1.79482343e+00 1.98358666e+00 2.19220229e+00 2.42275822e+00\n",
      "  2.67756192e+00 2.95916357e+00 3.27038152e+00 3.61433054e+00\n",
      "  3.99445300e+00 4.41455329e+00 4.87883592e+00 5.39194757e+00\n",
      "  5.95902365e+00 6.58573963e+00 7.27836792e+00 8.04384055e+00\n",
      "  8.88981865e+00 9.82476904e+00 1.08580490e+01 1.08580490e+01\n",
      "  9.82476904e+00 8.88981865e+00 8.04384055e+00 7.27836792e+00\n",
      "  6.58573963e+00 5.95902365e+00 5.39194757e+00 4.87883592e+00\n",
      "  4.41455329e+00 3.99445300e+00 3.61433054e+00 3.27038152e+00\n",
      "  2.95916357e+00 2.67756192e+00 2.42275822e+00 2.19220229e+00\n",
      "  1.98358666e+00 1.79482343e+00 1.46947714e+00 1.32963790e+00\n",
      "  1.20310612e+00 1.08861544e+00 9.85019983e-01 8.91282939e-01\n",
      "  8.06466153e-01 7.29720752e-01 6.60278641e-01 5.97444820e-01\n",
      "  5.40590429e-01 4.89146448e-01 4.42598009e-01 4.00479240e-01\n",
      "  3.62368601e-01 3.27884669e-01 2.96682318e-01 2.68449262e-01\n",
      "  2.42902937e-01 1.98872105e-01 1.79946922e-01 1.62822708e-01\n",
      "  1.47328079e-01 1.33307958e-01 1.20622029e-01 1.09143325e-01\n",
      "  9.87569646e-02 8.93589969e-02 8.08553640e-02 7.31609588e-02\n",
      "  6.61987730e-02 5.98991269e-02 5.41989713e-02 4.90412573e-02\n",
      "  4.43743646e-02 4.01515855e-02 3.63306569e-02 3.28733378e-02\n",
      "  2.69144126e-02 2.43531676e-02 2.20356573e-02 1.99386873e-02\n",
      "  1.80412703e-02 1.63244165e-02 1.47709428e-02 1.33653018e-02\n",
      "  1.20934251e-02 1.09425836e-02 9.90125908e-03 8.95902970e-03\n",
      "  8.10646530e-03 7.33503313e-03 6.63701244e-03 6.00541720e-03\n",
      "  5.43392619e-03 4.91681975e-03 4.44892249e-03]\n",
      " [2.42902937e-01 2.68449262e-01 2.96682318e-01 3.27884669e-01\n",
      "  3.62368601e-01 4.00479240e-01 4.42598009e-01 4.89146448e-01\n",
      "  5.40590429e-01 5.97444820e-01 6.60278641e-01 7.29720752e-01\n",
      "  8.06466153e-01 8.91282939e-01 9.85019983e-01 1.08861544e+00\n",
      "  1.20310612e+00 1.32963790e+00 1.46947714e+00 1.79482343e+00\n",
      "  1.98358666e+00 2.19220229e+00 2.42275822e+00 2.67756192e+00\n",
      "  2.95916357e+00 3.27038152e+00 3.61433054e+00 3.99445300e+00\n",
      "  4.41455329e+00 4.87883592e+00 5.39194757e+00 5.95902365e+00\n",
      "  6.58573963e+00 7.27836792e+00 8.04384055e+00 8.88981865e+00\n",
      "  9.82476904e+00 1.08580490e+01 1.08580490e+01 9.82476904e+00\n",
      "  8.88981865e+00 8.04384055e+00 7.27836792e+00 6.58573963e+00\n",
      "  5.95902365e+00 5.39194757e+00 4.87883592e+00 4.41455329e+00\n",
      "  3.99445300e+00 3.61433054e+00 3.27038152e+00 2.95916357e+00\n",
      "  2.67756192e+00 2.42275822e+00 2.19220229e+00 1.98358666e+00\n",
      "  1.79482343e+00 1.46947714e+00 1.32963790e+00 1.20310612e+00\n",
      "  1.08861544e+00 9.85019983e-01 8.91282939e-01 8.06466153e-01\n",
      "  7.29720752e-01 6.60278641e-01 5.97444820e-01 5.40590429e-01\n",
      "  4.89146448e-01 4.42598009e-01 4.00479240e-01 3.62368601e-01\n",
      "  3.27884669e-01 2.96682318e-01 2.68449262e-01 2.42902937e-01\n",
      "  1.98872105e-01 1.79946922e-01 1.62822708e-01 1.47328079e-01\n",
      "  1.33307958e-01 1.20622029e-01 1.09143325e-01 9.87569646e-02\n",
      "  8.93589969e-02 8.08553640e-02 7.31609588e-02 6.61987730e-02\n",
      "  5.98991269e-02 5.41989713e-02 4.90412573e-02 4.43743646e-02\n",
      "  4.01515855e-02 3.63306569e-02 3.28733378e-02]\n",
      " [3.28733378e-02 3.63306569e-02 4.01515855e-02 4.43743646e-02\n",
      "  4.90412573e-02 5.41989713e-02 5.98991269e-02 6.61987730e-02\n",
      "  7.31609588e-02 8.08553640e-02 8.93589969e-02 9.87569646e-02\n",
      "  1.09143325e-01 1.20622029e-01 1.33307958e-01 1.47328079e-01\n",
      "  1.62822708e-01 1.79946922e-01 1.98872105e-01 2.42902937e-01\n",
      "  2.68449262e-01 2.96682318e-01 3.27884669e-01 3.62368601e-01\n",
      "  4.00479240e-01 4.42598009e-01 4.89146448e-01 5.40590429e-01\n",
      "  5.97444820e-01 6.60278641e-01 7.29720752e-01 8.06466153e-01\n",
      "  8.91282939e-01 9.85019983e-01 1.08861544e+00 1.20310612e+00\n",
      "  1.32963790e+00 1.46947714e+00 1.79482343e+00 1.98358666e+00\n",
      "  2.19220229e+00 2.42275822e+00 2.67756192e+00 2.95916357e+00\n",
      "  3.27038152e+00 3.61433054e+00 3.99445300e+00 4.41455329e+00\n",
      "  4.87883592e+00 5.39194757e+00 5.95902365e+00 6.58573963e+00\n",
      "  7.27836792e+00 8.04384055e+00 8.88981865e+00 9.82476904e+00\n",
      "  1.08580490e+01 1.08580490e+01 9.82476904e+00 8.88981865e+00\n",
      "  8.04384055e+00 7.27836792e+00 6.58573963e+00 5.95902365e+00\n",
      "  5.39194757e+00 4.87883592e+00 4.41455329e+00 3.99445300e+00\n",
      "  3.61433054e+00 3.27038152e+00 2.95916357e+00 2.67756192e+00\n",
      "  2.42275822e+00 2.19220229e+00 1.98358666e+00 1.79482343e+00\n",
      "  1.46947714e+00 1.32963790e+00 1.20310612e+00 1.08861544e+00\n",
      "  9.85019983e-01 8.91282939e-01 8.06466153e-01 7.29720752e-01\n",
      "  6.60278641e-01 5.97444820e-01 5.40590429e-01 4.89146448e-01\n",
      "  4.42598009e-01 4.00479240e-01 3.62368601e-01 3.27884669e-01\n",
      "  2.96682318e-01 2.68449262e-01 2.42902937e-01]\n",
      " [4.44892249e-03 4.91681975e-03 5.43392619e-03 6.00541720e-03\n",
      "  6.63701244e-03 7.33503313e-03 8.10646530e-03 8.95902970e-03\n",
      "  9.90125908e-03 1.09425836e-02 1.20934251e-02 1.33653018e-02\n",
      "  1.47709428e-02 1.63244165e-02 1.80412703e-02 1.99386873e-02\n",
      "  2.20356573e-02 2.43531676e-02 2.69144126e-02 3.28733378e-02\n",
      "  3.63306569e-02 4.01515855e-02 4.43743646e-02 4.90412573e-02\n",
      "  5.41989713e-02 5.98991269e-02 6.61987730e-02 7.31609588e-02\n",
      "  8.08553640e-02 8.93589969e-02 9.87569646e-02 1.09143325e-01\n",
      "  1.20622029e-01 1.33307958e-01 1.47328079e-01 1.62822708e-01\n",
      "  1.79946922e-01 1.98872105e-01 2.42902937e-01 2.68449262e-01\n",
      "  2.96682318e-01 3.27884669e-01 3.62368601e-01 4.00479240e-01\n",
      "  4.42598009e-01 4.89146448e-01 5.40590429e-01 5.97444820e-01\n",
      "  6.60278641e-01 7.29720752e-01 8.06466153e-01 8.91282939e-01\n",
      "  9.85019983e-01 1.08861544e+00 1.20310612e+00 1.32963790e+00\n",
      "  1.46947714e+00 1.79482343e+00 1.98358666e+00 2.19220229e+00\n",
      "  2.42275822e+00 2.67756192e+00 2.95916357e+00 3.27038152e+00\n",
      "  3.61433054e+00 3.99445300e+00 4.41455329e+00 4.87883592e+00\n",
      "  5.39194757e+00 5.95902365e+00 6.58573963e+00 7.27836792e+00\n",
      "  8.04384055e+00 8.88981865e+00 9.82476904e+00 1.08580490e+01\n",
      "  1.08580490e+01 9.82476904e+00 8.88981865e+00 8.04384055e+00\n",
      "  7.27836792e+00 6.58573963e+00 5.95902365e+00 5.39194757e+00\n",
      "  4.87883592e+00 4.41455329e+00 3.99445300e+00 3.61433054e+00\n",
      "  3.27038152e+00 2.95916357e+00 2.67756192e+00 2.42275822e+00\n",
      "  2.19220229e+00 1.98358666e+00 1.79482343e+00]\n",
      " [6.02096185e-04 6.65419193e-04 7.35401941e-04 8.12744838e-04\n",
      "  8.98221959e-04 9.92688787e-04 1.09709078e-03 1.21247282e-03\n",
      "  1.33998970e-03 1.48091765e-03 1.63666712e-03 1.80879690e-03\n",
      "  1.99902973e-03 2.20926952e-03 2.44162043e-03 2.69840789e-03\n",
      "  2.98220193e-03 3.29584284e-03 3.64246966e-03 4.44892249e-03\n",
      "  4.91681975e-03 5.43392619e-03 6.00541720e-03 6.63701244e-03\n",
      "  7.33503313e-03 8.10646530e-03 8.95902970e-03 9.90125908e-03\n",
      "  1.09425836e-02 1.20934251e-02 1.33653018e-02 1.47709428e-02\n",
      "  1.63244165e-02 1.80412703e-02 1.99386873e-02 2.20356573e-02\n",
      "  2.43531676e-02 2.69144126e-02 3.28733378e-02 3.63306569e-02\n",
      "  4.01515855e-02 4.43743646e-02 4.90412573e-02 5.41989713e-02\n",
      "  5.98991269e-02 6.61987730e-02 7.31609588e-02 8.08553640e-02\n",
      "  8.93589969e-02 9.87569646e-02 1.09143325e-01 1.20622029e-01\n",
      "  1.33307958e-01 1.47328079e-01 1.62822708e-01 1.79946922e-01\n",
      "  1.98872105e-01 2.42902937e-01 2.68449262e-01 2.96682318e-01\n",
      "  3.27884669e-01 3.62368601e-01 4.00479240e-01 4.42598009e-01\n",
      "  4.89146448e-01 5.40590429e-01 5.97444820e-01 6.60278641e-01\n",
      "  7.29720752e-01 8.06466153e-01 8.91282939e-01 9.85019983e-01\n",
      "  1.08861544e+00 1.20310612e+00 1.32963790e+00 1.46947714e+00\n",
      "  1.79482343e+00 1.98358666e+00 2.19220229e+00 2.42275822e+00\n",
      "  2.67756192e+00 2.95916357e+00 3.27038152e+00 3.61433054e+00\n",
      "  3.99445300e+00 4.41455329e+00 4.87883592e+00 5.39194757e+00\n",
      "  5.95902365e+00 6.58573963e+00 7.27836792e+00 8.04384055e+00\n",
      "  8.88981865e+00 9.82476904e+00 1.08580490e+01]]\n",
      " matrice de covariance entre les inconnues et les observations : [[1.08580490e+01 1.79482343e+00 2.42902937e-01 3.28733378e-02\n",
      "  4.44892249e-03 6.02096185e-04]\n",
      " [9.82476904e+00 1.98358666e+00 2.68449262e-01 3.63306569e-02\n",
      "  4.91681975e-03 6.65419193e-04]\n",
      " [8.88981865e+00 2.19220229e+00 2.96682318e-01 4.01515855e-02\n",
      "  5.43392619e-03 7.35401941e-04]\n",
      " [8.04384055e+00 2.42275822e+00 3.27884669e-01 4.43743646e-02\n",
      "  6.00541720e-03 8.12744838e-04]\n",
      " [7.27836792e+00 2.67756192e+00 3.62368601e-01 4.90412573e-02\n",
      "  6.63701244e-03 8.98221959e-04]\n",
      " [6.58573963e+00 2.95916357e+00 4.00479240e-01 5.41989713e-02\n",
      "  7.33503313e-03 9.92688787e-04]\n",
      " [5.95902365e+00 3.27038152e+00 4.42598009e-01 5.98991269e-02\n",
      "  8.10646530e-03 1.09709078e-03]\n",
      " [5.39194757e+00 3.61433054e+00 4.89146448e-01 6.61987730e-02\n",
      "  8.95902970e-03 1.21247282e-03]\n",
      " [4.87883592e+00 3.99445300e+00 5.40590429e-01 7.31609588e-02\n",
      "  9.90125908e-03 1.33998970e-03]\n",
      " [4.41455329e+00 4.41455329e+00 5.97444820e-01 8.08553640e-02\n",
      "  1.09425836e-02 1.48091765e-03]\n",
      " [3.99445300e+00 4.87883592e+00 6.60278641e-01 8.93589969e-02\n",
      "  1.20934251e-02 1.63666712e-03]\n",
      " [3.61433054e+00 5.39194757e+00 7.29720752e-01 9.87569646e-02\n",
      "  1.33653018e-02 1.80879690e-03]\n",
      " [3.27038152e+00 5.95902365e+00 8.06466153e-01 1.09143325e-01\n",
      "  1.47709428e-02 1.99902973e-03]\n",
      " [2.95916357e+00 6.58573963e+00 8.91282939e-01 1.20622029e-01\n",
      "  1.63244165e-02 2.20926952e-03]\n",
      " [2.67756192e+00 7.27836792e+00 9.85019983e-01 1.33307958e-01\n",
      "  1.80412703e-02 2.44162043e-03]\n",
      " [2.42275822e+00 8.04384055e+00 1.08861544e+00 1.47328079e-01\n",
      "  1.99386873e-02 2.69840789e-03]\n",
      " [2.19220229e+00 8.88981865e+00 1.20310612e+00 1.62822708e-01\n",
      "  2.20356573e-02 2.98220193e-03]\n",
      " [1.98358666e+00 9.82476904e+00 1.32963790e+00 1.79946922e-01\n",
      "  2.43531676e-02 3.29584284e-03]\n",
      " [1.79482343e+00 1.08580490e+01 1.46947714e+00 1.98872105e-01\n",
      "  2.69144126e-02 3.64246966e-03]\n",
      " [1.46947714e+00 1.08580490e+01 1.79482343e+00 2.42902937e-01\n",
      "  3.28733378e-02 4.44892249e-03]\n",
      " [1.32963790e+00 9.82476904e+00 1.98358666e+00 2.68449262e-01\n",
      "  3.63306569e-02 4.91681975e-03]\n",
      " [1.20310612e+00 8.88981865e+00 2.19220229e+00 2.96682318e-01\n",
      "  4.01515855e-02 5.43392619e-03]\n",
      " [1.08861544e+00 8.04384055e+00 2.42275822e+00 3.27884669e-01\n",
      "  4.43743646e-02 6.00541720e-03]\n",
      " [9.85019983e-01 7.27836792e+00 2.67756192e+00 3.62368601e-01\n",
      "  4.90412573e-02 6.63701244e-03]\n",
      " [8.91282939e-01 6.58573963e+00 2.95916357e+00 4.00479240e-01\n",
      "  5.41989713e-02 7.33503313e-03]\n",
      " [8.06466153e-01 5.95902365e+00 3.27038152e+00 4.42598009e-01\n",
      "  5.98991269e-02 8.10646530e-03]\n",
      " [7.29720752e-01 5.39194757e+00 3.61433054e+00 4.89146448e-01\n",
      "  6.61987730e-02 8.95902970e-03]\n",
      " [6.60278641e-01 4.87883592e+00 3.99445300e+00 5.40590429e-01\n",
      "  7.31609588e-02 9.90125908e-03]\n",
      " [5.97444820e-01 4.41455329e+00 4.41455329e+00 5.97444820e-01\n",
      "  8.08553640e-02 1.09425836e-02]\n",
      " [5.40590429e-01 3.99445300e+00 4.87883592e+00 6.60278641e-01\n",
      "  8.93589969e-02 1.20934251e-02]\n",
      " [4.89146448e-01 3.61433054e+00 5.39194757e+00 7.29720752e-01\n",
      "  9.87569646e-02 1.33653018e-02]\n",
      " [4.42598009e-01 3.27038152e+00 5.95902365e+00 8.06466153e-01\n",
      "  1.09143325e-01 1.47709428e-02]\n",
      " [4.00479240e-01 2.95916357e+00 6.58573963e+00 8.91282939e-01\n",
      "  1.20622029e-01 1.63244165e-02]\n",
      " [3.62368601e-01 2.67756192e+00 7.27836792e+00 9.85019983e-01\n",
      "  1.33307958e-01 1.80412703e-02]\n",
      " [3.27884669e-01 2.42275822e+00 8.04384055e+00 1.08861544e+00\n",
      "  1.47328079e-01 1.99386873e-02]\n",
      " [2.96682318e-01 2.19220229e+00 8.88981865e+00 1.20310612e+00\n",
      "  1.62822708e-01 2.20356573e-02]\n",
      " [2.68449262e-01 1.98358666e+00 9.82476904e+00 1.32963790e+00\n",
      "  1.79946922e-01 2.43531676e-02]\n",
      " [2.42902937e-01 1.79482343e+00 1.08580490e+01 1.46947714e+00\n",
      "  1.98872105e-01 2.69144126e-02]\n",
      " [1.98872105e-01 1.46947714e+00 1.08580490e+01 1.79482343e+00\n",
      "  2.42902937e-01 3.28733378e-02]\n",
      " [1.79946922e-01 1.32963790e+00 9.82476904e+00 1.98358666e+00\n",
      "  2.68449262e-01 3.63306569e-02]\n",
      " [1.62822708e-01 1.20310612e+00 8.88981865e+00 2.19220229e+00\n",
      "  2.96682318e-01 4.01515855e-02]\n",
      " [1.47328079e-01 1.08861544e+00 8.04384055e+00 2.42275822e+00\n",
      "  3.27884669e-01 4.43743646e-02]\n",
      " [1.33307958e-01 9.85019983e-01 7.27836792e+00 2.67756192e+00\n",
      "  3.62368601e-01 4.90412573e-02]\n",
      " [1.20622029e-01 8.91282939e-01 6.58573963e+00 2.95916357e+00\n",
      "  4.00479240e-01 5.41989713e-02]\n",
      " [1.09143325e-01 8.06466153e-01 5.95902365e+00 3.27038152e+00\n",
      "  4.42598009e-01 5.98991269e-02]\n",
      " [9.87569646e-02 7.29720752e-01 5.39194757e+00 3.61433054e+00\n",
      "  4.89146448e-01 6.61987730e-02]\n",
      " [8.93589969e-02 6.60278641e-01 4.87883592e+00 3.99445300e+00\n",
      "  5.40590429e-01 7.31609588e-02]\n",
      " [8.08553640e-02 5.97444820e-01 4.41455329e+00 4.41455329e+00\n",
      "  5.97444820e-01 8.08553640e-02]\n",
      " [7.31609588e-02 5.40590429e-01 3.99445300e+00 4.87883592e+00\n",
      "  6.60278641e-01 8.93589969e-02]\n",
      " [6.61987730e-02 4.89146448e-01 3.61433054e+00 5.39194757e+00\n",
      "  7.29720752e-01 9.87569646e-02]\n",
      " [5.98991269e-02 4.42598009e-01 3.27038152e+00 5.95902365e+00\n",
      "  8.06466153e-01 1.09143325e-01]\n",
      " [5.41989713e-02 4.00479240e-01 2.95916357e+00 6.58573963e+00\n",
      "  8.91282939e-01 1.20622029e-01]\n",
      " [4.90412573e-02 3.62368601e-01 2.67756192e+00 7.27836792e+00\n",
      "  9.85019983e-01 1.33307958e-01]\n",
      " [4.43743646e-02 3.27884669e-01 2.42275822e+00 8.04384055e+00\n",
      "  1.08861544e+00 1.47328079e-01]\n",
      " [4.01515855e-02 2.96682318e-01 2.19220229e+00 8.88981865e+00\n",
      "  1.20310612e+00 1.62822708e-01]\n",
      " [3.63306569e-02 2.68449262e-01 1.98358666e+00 9.82476904e+00\n",
      "  1.32963790e+00 1.79946922e-01]\n",
      " [3.28733378e-02 2.42902937e-01 1.79482343e+00 1.08580490e+01\n",
      "  1.46947714e+00 1.98872105e-01]\n",
      " [2.69144126e-02 1.98872105e-01 1.46947714e+00 1.08580490e+01\n",
      "  1.79482343e+00 2.42902937e-01]\n",
      " [2.43531676e-02 1.79946922e-01 1.32963790e+00 9.82476904e+00\n",
      "  1.98358666e+00 2.68449262e-01]\n",
      " [2.20356573e-02 1.62822708e-01 1.20310612e+00 8.88981865e+00\n",
      "  2.19220229e+00 2.96682318e-01]\n",
      " [1.99386873e-02 1.47328079e-01 1.08861544e+00 8.04384055e+00\n",
      "  2.42275822e+00 3.27884669e-01]\n",
      " [1.80412703e-02 1.33307958e-01 9.85019983e-01 7.27836792e+00\n",
      "  2.67756192e+00 3.62368601e-01]\n",
      " [1.63244165e-02 1.20622029e-01 8.91282939e-01 6.58573963e+00\n",
      "  2.95916357e+00 4.00479240e-01]\n",
      " [1.47709428e-02 1.09143325e-01 8.06466153e-01 5.95902365e+00\n",
      "  3.27038152e+00 4.42598009e-01]\n",
      " [1.33653018e-02 9.87569646e-02 7.29720752e-01 5.39194757e+00\n",
      "  3.61433054e+00 4.89146448e-01]\n",
      " [1.20934251e-02 8.93589969e-02 6.60278641e-01 4.87883592e+00\n",
      "  3.99445300e+00 5.40590429e-01]\n",
      " [1.09425836e-02 8.08553640e-02 5.97444820e-01 4.41455329e+00\n",
      "  4.41455329e+00 5.97444820e-01]\n",
      " [9.90125908e-03 7.31609588e-02 5.40590429e-01 3.99445300e+00\n",
      "  4.87883592e+00 6.60278641e-01]\n",
      " [8.95902970e-03 6.61987730e-02 4.89146448e-01 3.61433054e+00\n",
      "  5.39194757e+00 7.29720752e-01]\n",
      " [8.10646530e-03 5.98991269e-02 4.42598009e-01 3.27038152e+00\n",
      "  5.95902365e+00 8.06466153e-01]\n",
      " [7.33503313e-03 5.41989713e-02 4.00479240e-01 2.95916357e+00\n",
      "  6.58573963e+00 8.91282939e-01]\n",
      " [6.63701244e-03 4.90412573e-02 3.62368601e-01 2.67756192e+00\n",
      "  7.27836792e+00 9.85019983e-01]\n",
      " [6.00541720e-03 4.43743646e-02 3.27884669e-01 2.42275822e+00\n",
      "  8.04384055e+00 1.08861544e+00]\n",
      " [5.43392619e-03 4.01515855e-02 2.96682318e-01 2.19220229e+00\n",
      "  8.88981865e+00 1.20310612e+00]\n",
      " [4.91681975e-03 3.63306569e-02 2.68449262e-01 1.98358666e+00\n",
      "  9.82476904e+00 1.32963790e+00]\n",
      " [4.44892249e-03 3.28733378e-02 2.42902937e-01 1.79482343e+00\n",
      "  1.08580490e+01 1.46947714e+00]\n",
      " [3.64246966e-03 2.69144126e-02 1.98872105e-01 1.46947714e+00\n",
      "  1.08580490e+01 1.79482343e+00]\n",
      " [3.29584284e-03 2.43531676e-02 1.79946922e-01 1.32963790e+00\n",
      "  9.82476904e+00 1.98358666e+00]\n",
      " [2.98220193e-03 2.20356573e-02 1.62822708e-01 1.20310612e+00\n",
      "  8.88981865e+00 2.19220229e+00]\n",
      " [2.69840789e-03 1.99386873e-02 1.47328079e-01 1.08861544e+00\n",
      "  8.04384055e+00 2.42275822e+00]\n",
      " [2.44162043e-03 1.80412703e-02 1.33307958e-01 9.85019983e-01\n",
      "  7.27836792e+00 2.67756192e+00]\n",
      " [2.20926952e-03 1.63244165e-02 1.20622029e-01 8.91282939e-01\n",
      "  6.58573963e+00 2.95916357e+00]\n",
      " [1.99902973e-03 1.47709428e-02 1.09143325e-01 8.06466153e-01\n",
      "  5.95902365e+00 3.27038152e+00]\n",
      " [1.80879690e-03 1.33653018e-02 9.87569646e-02 7.29720752e-01\n",
      "  5.39194757e+00 3.61433054e+00]\n",
      " [1.63666712e-03 1.20934251e-02 8.93589969e-02 6.60278641e-01\n",
      "  4.87883592e+00 3.99445300e+00]\n",
      " [1.48091765e-03 1.09425836e-02 8.08553640e-02 5.97444820e-01\n",
      "  4.41455329e+00 4.41455329e+00]\n",
      " [1.33998970e-03 9.90125908e-03 7.31609588e-02 5.40590429e-01\n",
      "  3.99445300e+00 4.87883592e+00]\n",
      " [1.21247282e-03 8.95902970e-03 6.61987730e-02 4.89146448e-01\n",
      "  3.61433054e+00 5.39194757e+00]\n",
      " [1.09709078e-03 8.10646530e-03 5.98991269e-02 4.42598009e-01\n",
      "  3.27038152e+00 5.95902365e+00]\n",
      " [9.92688787e-04 7.33503313e-03 5.41989713e-02 4.00479240e-01\n",
      "  2.95916357e+00 6.58573963e+00]\n",
      " [8.98221959e-04 6.63701244e-03 4.90412573e-02 3.62368601e-01\n",
      "  2.67756192e+00 7.27836792e+00]\n",
      " [8.12744838e-04 6.00541720e-03 4.43743646e-02 3.27884669e-01\n",
      "  2.42275822e+00 8.04384055e+00]\n",
      " [7.35401941e-04 5.43392619e-03 4.01515855e-02 2.96682318e-01\n",
      "  2.19220229e+00 8.88981865e+00]\n",
      " [6.65419193e-04 4.91681975e-03 3.63306569e-02 2.68449262e-01\n",
      "  1.98358666e+00 9.82476904e+00]\n",
      " [6.02096185e-04 4.44892249e-03 3.28733378e-02 2.42902937e-01\n",
      "  1.79482343e+00 1.08580490e+01]]\n"
     ]
    }
   ],
   "source": [
    "cov_obs, cov_inc, cov_inc_obs, cov_obs_inc = [], [], [], []\n",
    "\n",
    "for i, L in enumerate(Sigma) :\n",
    "    for j, c in enumerate(L) :\n",
    "        if i in observation_indexes and j in observation_indexes :\n",
    "            cov_obs.append(c)\n",
    "        elif i in unknown_indexes and j in unknown_indexes :\n",
    "            cov_inc.append(c)\n",
    "        elif i in unknown_indexes and j in observation_indexes :\n",
    "            cov_inc_obs.append(c)\n",
    "        else :\n",
    "            cov_obs_inc.append(c)\n",
    "\n",
    "k = len(unknown_indexes)\n",
    "cov_obs = np.array(cov_obs).reshape(6, 6)  # correspond à C_v dan sl partie théorique\n",
    "cov_inc = np.array(cov_inc).reshape(k, k) #C_u dans la partie théorique\n",
    "cov_inc_obs = np.array(cov_inc_obs).reshape(k, 6) #C_u,v dans la partie théorique\n",
    "cov_obs_inc = np.array(cov_obs_inc).reshape(6, k) #C_v,u dans la partie théorique\n",
    "\n",
    "print(f\" matrice de covariance entre les observations : {cov_obs}\")\n",
    "print (f\" matrice de covariance entre les inconnues : {cov_inc}\")\n",
    "print(f\" matrice de covariance entre les observations et les inconnues : {cov_obs_inc}\")\n",
    "print(f\" matrice de covariance entre les inconnues et les observations : {cov_inc_obs}\")"
   ]
  },
  {
   "cell_type": "markdown",
   "metadata": {},
   "source": [
    "### Espérance conditionnelle"
   ]
  },
  {
   "cell_type": "code",
   "execution_count": 5,
   "metadata": {},
   "outputs": [
    {
     "name": "stdout",
     "output_type": "stream",
     "text": [
      "espérance conditionnelle = [ -0.46688335  -0.88839774  -1.26876184  -1.61178245  -1.92089264\n",
      "  -2.19918609  -2.44944805  -2.67418323  -2.87564085  -3.05583718\n",
      "  -3.21657567  -3.35946505  -3.4859354   -3.59725249  -3.69453041\n",
      "  -3.77874275  -3.85073233  -3.91121966  -3.96081011  -4.31432093\n",
      "  -4.62177936  -4.92545243  -5.2283794   -5.53359206  -5.8441451\n",
      "  -6.16314662  -6.49378931  -6.83938234  -7.20338453  -7.58943893\n",
      "  -8.00140931  -8.4434188   -8.91989118  -9.43559515  -9.99569205\n",
      " -10.60578751 -11.27198758 -12.00095981 -11.91810571 -11.10545015\n",
      " -10.35389999  -9.65593346  -9.00456508  -8.39327573  -7.81594742\n",
      "  -7.26680206  -6.74034362  -6.23130312  -5.73458592  -5.2452207\n",
      "  -4.75830973  -4.26897984  -3.77233366  -3.26340058  -2.73708703\n",
      "  -2.18812549  -1.61102176  -1.43702815  -1.83839689  -2.20812324\n",
      "  -2.54990754  -2.8671705   -3.16308739  -3.44061983  -3.70254547\n",
      "  -3.95148576  -4.18993216  -4.42027113  -4.64480797  -4.86578994\n",
      "  -5.08542869  -5.30592243  -5.52947795  -5.75833267  -5.99477703\n",
      "  -6.24117745  -6.21355942  -5.93926455  -5.67437016  -5.41622509\n",
      "  -5.16224574  -4.9098902   -4.65663281  -4.39993889  -4.13723936\n",
      "  -3.86590502  -3.58322028  -3.28635594  -2.97234087  -2.6380323\n",
      "  -2.28008437  -1.89491461  -1.47866811  -1.02717893  -0.53592843] \n"
     ]
    }
   ],
   "source": [
    "esp_cond = mu*np.ones(k) + np.dot(np.dot(cov_inc_obs, np.linalg.inv(cov_obs)), depth - mu*np.ones(6)) #calcul de l'espérance conditionnelle des composantes non observées sachant les observations\n",
    "print (f\"espérance conditionnelle = {esp_cond} \")"
   ]
  },
  {
   "cell_type": "markdown",
   "metadata": {},
   "source": [
    "#### Tracé de l'espérance conditionnelle en fonction des données"
   ]
  },
  {
   "cell_type": "code",
   "execution_count": 6,
   "metadata": {},
   "outputs": [
    {
     "data": {
      "text/plain": [
       "[<matplotlib.lines.Line2D at 0x2beac46f710>]"
      ]
     },
     "execution_count": 6,
     "metadata": {},
     "output_type": "execute_result"
    },
    {
     "data": {
      "image/png": "[encoded data removed]",
      "text/plain": [
       "<Figure size 432x288 with 1 Axes>"
      ]
     },
     "metadata": {
      "needs_background": "light"
     },
     "output_type": "display_data"
    }
   ],
   "source": [
    "plt.plot(unknown_indexes, esp_cond)"
   ]
  },
  {
   "cell_type": "markdown",
   "metadata": {},
   "source": [
    "### Variance conditionnelle"
   ]
  },
  {
   "cell_type": "code",
   "execution_count": 7,
   "metadata": {},
   "outputs": [
    {
     "name": "stdout",
     "output_type": "stream",
     "text": [
      "matrice de covariance conditionnelle = [[ 2.16624554e+00  1.95016959e+00  1.75361159e+00 ...  1.62630326e-19\n",
      "   9.21571847e-19  0.00000000e+00]\n",
      " [ 1.95016959e+00  3.91985713e+00  3.52477392e+00 ... -1.08420217e-19\n",
      "   8.13151629e-19  9.21571847e-19]\n",
      " [ 1.75361159e+00  3.52477392e+00  5.33121337e+00 ... -8.67361738e-19\n",
      "  -1.62630326e-19  1.08420217e-19]\n",
      " ...\n",
      " [ 1.62630326e-19 -1.08420217e-19 -8.67361738e-19 ...  5.33121337e+00\n",
      "   3.52477392e+00  1.75361159e+00]\n",
      " [ 9.21571847e-19  8.13151629e-19 -1.62630326e-19 ...  3.52477392e+00\n",
      "   3.91985713e+00  1.95016959e+00]\n",
      " [ 0.00000000e+00  9.21571847e-19  1.08420217e-19 ...  1.75361159e+00\n",
      "   1.95016959e+00  2.16624554e+00]]\n",
      "variance conditionnelle = [2.16624554 3.91985713 5.33121337 6.45695694 7.34226788 8.02267682\n",
      " 8.52549097 8.87089003 9.07273607 9.13912987 9.07273607 8.87089003\n",
      " 8.52549097 8.02267682 7.34226788 6.45695694 5.33121337 3.91985713\n",
      " 2.16624554 2.16624554 3.91985713 5.33121337 6.45695694 7.34226788\n",
      " 8.02267682 8.52549097 8.87089003 9.07273607 9.13912987 9.07273607\n",
      " 8.87089003 8.52549097 8.02267682 7.34226788 6.45695694 5.33121337\n",
      " 3.91985713 2.16624554 2.16624554 3.91985713 5.33121337 6.45695694\n",
      " 7.34226788 8.02267682 8.52549097 8.87089003 9.07273607 9.13912987\n",
      " 9.07273607 8.87089003 8.52549097 8.02267682 7.34226788 6.45695694\n",
      " 5.33121337 3.91985713 2.16624554 2.16624554 3.91985713 5.33121337\n",
      " 6.45695694 7.34226788 8.02267682 8.52549097 8.87089003 9.07273607\n",
      " 9.13912987 9.07273607 8.87089003 8.52549097 8.02267682 7.34226788\n",
      " 6.45695694 5.33121337 3.91985713 2.16624554 2.16624554 3.91985713\n",
      " 5.33121337 6.45695694 7.34226788 8.02267682 8.52549097 8.87089003\n",
      " 9.07273607 9.13912987 9.07273607 8.87089003 8.52549097 8.02267682\n",
      " 7.34226788 6.45695694 5.33121337 3.91985713 2.16624554]\n"
     ]
    }
   ],
   "source": [
    "cov_cond = cov_inc - np.dot(np.dot(cov_inc_obs, np.linalg.inv(cov_obs)), cov_obs_inc) # problème rencontré : cette matrice n'est pas symétrique, après vérification, cela est sûrement dû à une erreur d'arrondi. Idée : corriger cette erreur (cf ci-dessous)\n",
    "cov_cond = (1/2)*(cov_cond + np.transpose(cov_cond))\n",
    "var_cond = np.diag(cov_cond)\n",
    "\n",
    "print(f\"matrice de covariance conditionnelle = {cov_cond}\")\n",
    "print(f\"variance conditionnelle = {var_cond}\")"
   ]
  },
  {
   "cell_type": "markdown",
   "metadata": {},
   "source": [
    "### Tracé de la variance conditionnelle en fonction de la position"
   ]
  },
  {
   "cell_type": "code",
   "execution_count": 8,
   "metadata": {},
   "outputs": [
    {
     "data": {
      "text/plain": [
       "[<matplotlib.lines.Line2D at 0x2beae51b320>]"
      ]
     },
     "execution_count": 8,
     "metadata": {},
     "output_type": "execute_result"
    },
    {
     "data": {
      "image/png": "[encoded data removed]",
      "text/plain": [
       "<Figure size 432x288 with 1 Axes>"
      ]
     },
     "metadata": {
      "needs_background": "light"
     },
     "output_type": "display_data"
    }
   ],
   "source": [
    "plt.plot(unknown_indexes, var_cond)"
   ]
  },
  {
   "cell_type": "markdown",
   "metadata": {},
   "source": [
    "La variance conditionnelle est d'autant plus élevée qu'on s'éloigne des positions où la profondeur est connue. En ces points d'observation, la variance doit être nulle : les profondeurs connues $(Z(x_{j_1}), \\ldots, Z(x_{j_n}))$ où ${j_1, \\ldots, j_n} =$ sont les indices des positions d'observation sont des variables alétoires presque sûrement constantes."
   ]
  },
  {
   "cell_type": "markdown",
   "metadata": {},
   "source": [
    "### Simulation conditionnelle"
   ]
  },
  {
   "cell_type": "markdown",
   "metadata": {},
   "source": [
    "On applique l'algorithme décrit dans la question n°4 de la partie théorique."
   ]
  },
  {
   "cell_type": "code",
   "execution_count": 9,
   "metadata": {},
   "outputs": [
    {
     "name": "stdout",
     "output_type": "stream",
     "text": [
      "vecteur des profondeurs : [  0.          -1.47452935  -1.59344104   0.93509022  -1.23385655\n",
      "  -5.09875384  -7.38432447  -7.70723686  -8.6617301   -7.41101939\n",
      "  -7.24853332  -8.31064533  -6.53215029  -9.18145505  -5.65166575\n",
      "  -6.75926144  -6.85374762  -5.59005176  -3.55798237  -4.38073154\n",
      "  -4.          -2.62001349  -4.32808614  -2.73741162  -5.45929371\n",
      "  -7.03068656  -6.61709773  -8.13342978  -8.56054375  -8.01494364\n",
      " -10.28528524 -11.45812683 -13.58859939 -12.64835446  -8.8472059\n",
      " -12.73490466 -12.15839569 -11.58490822 -10.5322278  -11.3493092\n",
      " -12.8        -12.9928465  -12.43968274 -10.20297928  -8.23712066\n",
      "  -7.99799137  -6.65842733  -5.26995248  -2.84750138  -2.64339444\n",
      "  -6.69851794  -8.20670755  -8.13829769  -6.9404297   -6.55967195\n",
      "  -6.00289414  -4.52121925  -4.63852427  -3.38648328  -2.76007073\n",
      "  -1.          -2.04305044  -0.54711295  -0.26506605   0.52414994\n",
      "   2.0569128   -1.84081485  -0.462417     0.6036602   -0.10823507\n",
      "  -0.41696818  -3.16377185   0.20340438  -1.80378715  -4.23153458\n",
      "  -3.14884464  -1.59682015  -5.19645199  -7.34940027  -5.93982674\n",
      "  -6.5         -5.95557265  -4.57793367  -3.8898321   -3.42325673\n",
      "  -1.80463897  -0.87244747   0.98194446  -1.00109809  -0.77482948\n",
      "   0.95079298  -1.58499129  -2.42260711  -3.37414844  -4.0959789\n",
      "  -6.74220702  -8.38760395  -7.82711277  -4.88308949  -3.60408311\n",
      "   0.        ]\n"
     ]
    }
   ],
   "source": [
    "Y=np.random.normal(0,1,95) #simule un vesteur gaussien de même taille k que unknown_indexes,ave k variables aléatoires indépendantes suivant une loi normale centrée réduite \n",
    "\n",
    "depth_inc = esp_cond + np.dot(np.linalg.cholesky(cov_cond), Y) #simulation conditionnelle du vecteur des profondeurs inconnues, en suivant le calcul décrit dans la question théorique numéro 3\n",
    "depth_tot = list(depth_inc)\n",
    "for i in observation_indexes : #le but de cette boucle est de compléter le vecteur des profondeurs inconnues en y insérant aux bonnes positions les profondeurs connues\n",
    "    depth_tot = depth_tot[:i] + [depth[i//20]] + depth_tot[i:]\n",
    "\n",
    "Z = np.array(depth_tot) # ainsi, Z est le vecteur des profondeurs (connues et simulées) : on a la profondeur pour tous les points indexés\n",
    "\n",
    "print(f\"vecteur des profondeurs : {Z}\")"
   ]
  },
  {
   "cell_type": "markdown",
   "metadata": {},
   "source": [
    "#### Tracé de la simulation conditionnelle et de l'espérance conditionnelle"
   ]
  },
  {
   "cell_type": "code",
   "execution_count": 10,
   "metadata": {},
   "outputs": [
    {
     "data": {
      "text/plain": [
       "[<matplotlib.lines.Line2D at 0x2beae4dca90>]"
      ]
     },
     "execution_count": 10,
     "metadata": {},
     "output_type": "execute_result"
    },
    {
     "data": {
      "image/png": "[encoded data removed]",
      "text/plain": [
       "<Figure size 432x288 with 1 Axes>"
      ]
     },
     "metadata": {
      "needs_background": "light"
     },
     "output_type": "display_data"
    }
   ],
   "source": [
    "plt.plot(unknown_indexes, esp_cond, color = 'b') #espérance conditionnelle en bleu\n",
    "plt.plot(np.linspace(0,100,101), Z, color = 'r') #simulation en rouge"
   ]
  },
  {
   "cell_type": "markdown",
   "metadata": {},
   "source": [
    "On remarque que la simulation \"suit\" l'espérance conditionnelle : les valeurs obtenues restent groupées autour de l'espérance conditionnelle. La valeur prise en un point x par l'espérance conditionnelle est en effet la plus probable : cela est dû au fait qu'on simule ici un vecteur gaussien."
   ]
  },
  {
   "cell_type": "markdown",
   "metadata": {},
   "source": [
    "### Fonction qui calcule la longueur du cable en fonction d'une liste et d'un pas passés en argument"
   ]
  },
  {
   "cell_type": "code",
   "execution_count": 11,
   "metadata": {},
   "outputs": [],
   "source": [
    "def longueur_cable(profondeurs,pas):\n",
    "    \"\"\"fonction qui à partir de la donnée des profondeurs de tous les points de la discrétisation renvoie la longueur du \n",
    "    cable associée\"\"\"\n",
    "    \n",
    "    return sum([np.sqrt(pas**2 + (profondeurs[i] - profondeurs[i-1])**2) for i in range (1, len(profondeurs))])\n"
   ]
  },
  {
   "cell_type": "markdown",
   "metadata": {},
   "source": [
    "Ici, on suppose bien sû qu'il y a plus de 2 points dans la liste passée en argument, ce qui est évidemment réalisé."
   ]
  },
  {
   "cell_type": "markdown",
   "metadata": {},
   "source": [
    "### Réalisation de 100 simulations"
   ]
  },
  {
   "cell_type": "code",
   "execution_count": 15,
   "metadata": {},
   "outputs": [],
   "source": [
    "def longueur_cable_simulation(n, pas):\n",
    "    \"\"\"fonction qui prend en argument un pas pas et un entier n et renvoie une estimation de la longueur du cable calculée à\n",
    "    partir d'une moyenne calculée sur  n simulations réalisées avec le pas passé en argument\"\"\"\n",
    "    moyenne = 0\n",
    "    for i in range (n):\n",
    "        Y=np.random.normal(0,1,95) \n",
    "        depth_inc = esp_cond + np.dot(np.linalg.cholesky(cov_cond), Y) \n",
    "        depth_tot = list(depth_inc)\n",
    "        for i in observation_indexes : \n",
    "            depth_tot = depth_tot[:i] + [depth[i//20]] + depth_tot[i:]\n",
    "        Z = np.array(depth_tot) \n",
    "        moyenne += 1/n*longueur_cable(Z, pas)\n",
    "    return moyenne"
   ]
  },
  {
   "cell_type": "code",
   "execution_count": 16,
   "metadata": {},
   "outputs": [
    {
     "data": {
      "text/plain": [
       "522.684457856499"
      ]
     },
     "execution_count": 16,
     "metadata": {},
     "output_type": "execute_result"
    }
   ],
   "source": [
    "longueur_cable_simulation(100, Delta) #espérance conditionnelle de la longueur"
   ]
  },
  {
   "cell_type": "code",
   "execution_count": 18,
   "metadata": {},
   "outputs": [
    {
     "name": "stdout",
     "output_type": "stream",
     "text": [
      "longueur de l'espérance conditionnelle = 514.5958822709576\n"
     ]
    }
   ],
   "source": [
    "esp_cond_tot = list(esp_cond) #espérance conditionnelle du vecteur des profondeurs inconnues à laquelle on a ajouté les proofndeurs connues\n",
    "for i in observation_indexes :\n",
    "    esp_cond_tot = esp_cond_tot[:i] + [mu] + esp_cond_tot[i:]\n",
    "\n",
    "esp_cond_tot = np.array(esp_cond_tot)\n",
    "long_esp_cond = longueur_cable(esp_cond_tot, Delta)\n",
    "print (f\"longueur de l'espérance conditionnelle = {long_esp_cond}\")"
   ]
  },
  {
   "cell_type": "markdown",
   "metadata": {},
   "source": [
    "La longueur de l'espérance conditionnelle semble légèrement inférieure à l'espérance conditionnelle de la longueur (environ 5 à 10 mètres plus courte).\n",
    "\n",
    "Cela est peut-être dû au fait que lorsqu'on regarde le graphe de l'espérance conditionnelle en fonction de la position, celui-ci est assez \"lisse\"; il y peu de grosse variations locales (contraiarement aux résultats simulés numériquement) : cela donne donc une longueur de câble plus petite."
   ]
  },
  {
   "cell_type": "markdown",
   "metadata": {},
   "source": [
    "### Tracé de la suite des Mn"
   ]
  },
  {
   "cell_type": "code",
   "execution_count": 19,
   "metadata": {},
   "outputs": [],
   "source": [
    "def trace_Mn(p,pas):\n",
    "    \"\"\"fonction qui prend en argument un entier p et un pas âs et représente sur un graphique la suite des moyennes des \n",
    "    longueurs de câbles pour les puissances de 10 comprises entre 0 et p et leurs multiples, calculées en fonction du pas de discrétisation\"\"\"\n",
    "    X= [k*10**i for i in range (1,p+1) for k in range (1,9)]\n",
    "    Y= [longueur_cable_simulation(x,pas) for x in X]\n",
    "    plt.clf()\n",
    "    plt.plot(X,Y)\n",
    "    plt.show()"
   ]
  },
  {
   "cell_type": "markdown",
   "metadata": {},
   "source": [
    "Ici, on a choisi de ne représenter la suite des Mn que pour les puissances de 10 car c'est le comportement asymptotique de la suite qui nous intéresse.\n",
    "On peut exécuter la fonction pour p = 3 par exemple"
   ]
  },
  {
   "cell_type": "code",
   "execution_count": 20,
   "metadata": {},
   "outputs": [
    {
     "data": {
      "image/png": "[encoded data removed]",
      "text/plain": [
       "<Figure size 432x288 with 1 Axes>"
      ]
     },
     "metadata": {
      "needs_background": "light"
     },
     "output_type": "display_data"
    }
   ],
   "source": [
    "trace_Mn(3, Delta)"
   ]
  },
  {
   "cell_type": "markdown",
   "metadata": {},
   "source": [
    "Pour une valeur de p relativement faible, le tracé prend un certain temps (de l'ordre de 1minute) donc nous n'allons pas l'exécuter pour des valeurs plus élevées (10 ou 20 par exemple). Cependant, on peut supposer en toute logique que la suite des Mn converge, vers la valeur du cable la plus probable pour le modèle choisi."
   ]
  },
  {
   "cell_type": "markdown",
   "metadata": {},
   "source": [
    "On remarque que cette suite semble tendre vers une valeur proche de 522,4 mètres (soit 6 mètres de plus que la longueur de l'espérance conditionnelle) : cette longueur vers laquelle on tend est en fait la véritable espérance conditionnelle de la longueur (voir question théorique n°1 : loi des grands nombres)."
   ]
  },
  {
   "cell_type": "markdown",
   "metadata": {},
   "source": [
    "### Tracé de l'histogramme"
   ]
  },
  {
   "cell_type": "code",
   "execution_count": 93,
   "metadata": {},
   "outputs": [],
   "source": [
    "def histogramme(n,pas):\n",
    "    \"\"\"fonction qui prend en argument un entier n et un pas pas et qui trace l'histogramme des valeurs obtenues\"\"\"\n",
    "    L=[]\n",
    "    for i in range (n):\n",
    "        Y=np.random.normal(0,1,95) \n",
    "        depth_inc = esp_cond + np.dot(np.linalg.cholesky(cov_cond), Y)  \n",
    "        depth_tot = list(depth_inc)\n",
    "        for i in observation_indexes : \n",
    "            depth_tot = depth_tot[:i] + [depth[i//20]] + depth_tot[i:]\n",
    "        Z = np.array(depth_tot)\n",
    "        L.append(longueur_cable(Z, pas))\n",
    "    m=min(L)\n",
    "    M=max(L)\n",
    "    X=np.linspace(m,M,20)\n",
    "    plt.clf()\n",
    "    plt.hist(L,X)"
   ]
  },
  {
   "cell_type": "markdown",
   "metadata": {},
   "source": [
    "Ici, on peut exécuter la fonction pour n = 100 mais il sera intéressant de le faire pour des plus grandes valeurs de n en question 14"
   ]
  },
  {
   "cell_type": "code",
   "execution_count": 94,
   "metadata": {},
   "outputs": [
    {
     "data": {
      "image/png": "[encoded data removed]",
      "text/plain": [
       "<Figure size 432x288 with 1 Axes>"
      ]
     },
     "metadata": {
      "needs_background": "light"
     },
     "output_type": "display_data"
    }
   ],
   "source": [
    "histogramme(100, Delta)"
   ]
  },
  {
   "cell_type": "markdown",
   "metadata": {},
   "source": [
    "On peut envisager 2 méthodes de calcul d'un intervalle de confiance à 95%. La première est naîve et imprécise et repose sur le calcul de l'aire des rectangles qui constituent l'histogramme. La seconde fait appel au théorème centrale limite et est un peu coûteuse en terme de calculs."
   ]
  },
  {
   "cell_type": "code",
   "execution_count": 95,
   "metadata": {},
   "outputs": [],
   "source": [
    "def intervalle_de_confiance1(n, pas):\n",
    "    L=[]\n",
    "    for i in range (n):\n",
    "        Y=np.random.normal(0,1,95) \n",
    "        depth_inc = esp_cond + np.dot(np.linalg.cholesky(cov_cond), Y)  \n",
    "        depth_tot = list(depth_inc)\n",
    "        for i in observation_indexes : \n",
    "            depth_tot = depth_tot[:i] + [depth[i//20]] + depth_tot[i:]\n",
    "        Z = np.array(depth_tot)\n",
    "        L.append(longueur_cable(Z, pas))\n",
    "    m=min(L)\n",
    "    M=max(L) + 0.1\n",
    "    X=np.linspace(m,M,10)\n",
    "    l=len(X)\n",
    "    Y=dict()\n",
    "    for k in range (l-1):\n",
    "        Y[k]=[X[k]<=x<X[k+1] for x in L].count(True)\n",
    "    total=0\n",
    "    voisins=[]\n",
    "    valeurs = [a for a in Y.values()]\n",
    "    max_value = max(valeurs)\n",
    "    key=0\n",
    "    intervalles=[]\n",
    "    while Y[key]!=max_value:\n",
    "        key+=1\n",
    "    total+=max_value\n",
    "    intervalles.append(key)\n",
    "    if 0<key<l-2:\n",
    "        voisins= voisins + [key + 1, key -1]\n",
    "    if key == 0:\n",
    "        voisins=voisins +[1]\n",
    "    else:\n",
    "        voisins=voisins + [l-3]\n",
    "    if total<0.95*n:\n",
    "        while total<0.95*n:\n",
    "            max_value= max([Y[k] for k in voisins])\n",
    "            total+=max_value\n",
    "            for i, k in enumerate(voisins) :\n",
    "                if Y[k] == max_value :\n",
    "                    key = voisins.pop(i)#doit conteir le numéro de l'intervalle voisin qui contient le plus de valeur \n",
    "            if 0<key<l-2:\n",
    "                if key + 1 not in intervalles:\n",
    "                    voisins= voisins + [key + 1]\n",
    "                else:\n",
    "                    voisins = voisins + [key -1]\n",
    "            if key == 0 and 1 not in intervalles:\n",
    "                voisins=voisins +[1]\n",
    "            else:\n",
    "                if l-3 not in intervalles:\n",
    "                    voisins=voisins + [l-3]\n",
    "            intervalles.append(key)\n",
    "        return [min([X[k] for k in intervalles] + [X[k+1] for k in intervalles]), \n",
    "                max([X[k] for k in intervalles] + [X[k+1] for k in intervalles])]\n",
    "    else:\n",
    "        return [X[intervalles[0]], X[intervalles[1]]]  "
   ]
  },
  {
   "cell_type": "markdown",
   "metadata": {},
   "source": [
    "Remarque: l'algorithme effectue ici la méthode suivante: il cherche d'abord l'intervalle qui contient le plus de valeurs puis entre son voisin immédiat droit ou gauche celui qui contient le plus de valeur et construit l'intervalle qui est la concaténation des 2 premiers, et procède ainsi de proche en proche jusqu'à contenir au moins 95% des valeurs calculées. Ainsi, cette méthode accorde d'autant plus d'importance à un intervalle que celui-ci contient de valeurs et est donc suscpetible de contenir la valeur réelle de la longueur du cable. \n",
    "\n",
    "La méthode reste toutefois imprécise, elle peut notamment renvoyer un intervalle trop \"large\", entre autres défauts. Notamment, il peut être sensible à l'existence d'une zone où il existerait localement un intervalle contenant bcp de valeurs mais peu autour. \n",
    "\n",
    "Cependant, dans le cas d'une distribution gaussienne, pour un nombre élévé de simulation, on peut supposer que cela n'rrivera pas."
   ]
  },
  {
   "cell_type": "code",
   "execution_count": 85,
   "metadata": {},
   "outputs": [
    {
     "data": {
      "text/plain": [
       "[516.8254751709458, 527.9607608749988]"
      ]
     },
     "execution_count": 85,
     "metadata": {},
     "output_type": "execute_result"
    }
   ],
   "source": [
    "intervalle_de_confiance1(100, Delta)"
   ]
  },
  {
   "cell_type": "markdown",
   "metadata": {},
   "source": [
    "On peut également utiliser une deuxième méthode en se basant sur le théorème centrale limite. En effet, si on considère les simulations indépendantes, les longueurs obtenues L1, L2,..., Ln constituent des varirables aléatoires iid. En effectuant un nombre suffisant de mesures, on peut estimer l'espérance m et l'écart-type \\sigma des Li. Alors pour n assez grand, en appliquant le théorème central limite, on peut supposer que la VA $Mn = \\frac{\\sqrt{n}}{\\sigma}\\frac{M1+...+Mn}{n}$ suit une loi normale centrée réduite. Comme on connaît la densité de cette loi, on peut en déduire un intervalle de confiance à 95% $[a,b]$ symétrique par rapport à l'origine. On en déduit l'intervalle de confiance à 95% de notre moyenne des longueurs donnée par $[ (a + \\frac{\\sqrt{n}\\mu}{\\sigma})\\frac{\\sigma}{\\sqrt{n}} , (b + \\frac{\\sqrt{n}\\mu}{\\sigma})\\frac{\\sigma}{\\sqrt{n}} ]$"
   ]
  },
  {
   "cell_type": "code",
   "execution_count": 86,
   "metadata": {},
   "outputs": [],
   "source": [
    "import scipy.integrate as integrate\n",
    "\n",
    "def moyenne_ecart_type(n, pas):\n",
    "    moyenne = 0\n",
    "    sigma_2 = 0\n",
    "    l=[]\n",
    "    for i in range (n):\n",
    "        Y=np.random.normal(0,1,95) \n",
    "        depth_inc = esp_cond + np.dot(np.linalg.cholesky(cov_cond), Y) \n",
    "        depth_tot = list(depth_inc)\n",
    "        for i in observation_indexes : \n",
    "            depth_tot = depth_tot[:i] + [depth[i//20]] + depth_tot[i:]\n",
    "        Z = np.array(depth_tot) \n",
    "        l.append(longueur_cable(Z, pas))\n",
    "        moyenne += (1/n)*l[-1]\n",
    "    for i in range (n):\n",
    "        sigma_2 += (1/n)*(moyenne - l[i])**2\n",
    "    return moyenne, np.sqrt(sigma_2)\n",
    "\n",
    "N=1000\n",
    "m, sigma= moyenne_ecart_type(N, Delta)\n",
    "        \n",
    "\n",
    "def f(x):\n",
    "    return (1/np.sqrt(2*np.pi))*np.exp(-(1/2)*(x)**2)\n",
    "        \n",
    "def bornes_sup_dichotomie(f):\n",
    "    a=1\n",
    "    integrale=(0,0)\n",
    "    while integrale[0] < 0.95/2:\n",
    "        a*=2\n",
    "        integrale= integrate.quad(f,0,a)\n",
    "    return a\n",
    "    \n",
    "def intervalle_de_confiance_2(n,f,epsilon):\n",
    "    b=bornes_sup_dichotomie(f)\n",
    "    a=b/2\n",
    "    integrale= integrate.quad(f,0,a)\n",
    "    while abs(integrale[0]-0.95/2)>epsilon:\n",
    "        integrale=integrate.quad(f,0,(b+a)/2)\n",
    "        if integrale[0] > 0.95/2:\n",
    "            b=(a+b)/2\n",
    "        else:\n",
    "            a=(a+b)/2\n",
    "    return [((np.sqrt(n)*m/sigma) - (a+b)/2) * sigma/np.sqrt(n), \n",
    "            ((np.sqrt(n)*m/sigma) + (a+b)/2) * sigma/np.sqrt(n)]"
   ]
  },
  {
   "cell_type": "code",
   "execution_count": 87,
   "metadata": {},
   "outputs": [
    {
     "data": {
      "text/plain": [
       "[521.9541296100905, 523.090007034341]"
      ]
     },
     "execution_count": 87,
     "metadata": {},
     "output_type": "execute_result"
    }
   ],
   "source": [
    "intervalle_de_confiance_2(100,f,0.00001)"
   ]
  },
  {
   "cell_type": "markdown",
   "metadata": {},
   "source": [
    "On obtient bien un intervalle de confiance qui vient encadrer la valeur moyenne obtenue. Cependant, celui-ci est trop peu large par rapport à la simulation : il doit y avoir une erreur dans le code."
   ]
  },
  {
   "cell_type": "code",
   "execution_count": null,
   "metadata": {},
   "outputs": [],
   "source": [
    "L=[]\n",
    "for i in range (n):\n",
    "    Y=np.random.normal(0,1,95) \n",
    "    depth_inc = esp_cond + np.dot(np.linalg.cholesky(cov_cond), Y)  \n",
    "    depth_tot = list(depth_inc)\n",
    "    for i in observation_indexes : \n",
    "        depth_tot = depth_tot[:i] + [depth[i//20]] + depth_tot[i:]\n",
    "    Z = np.array(depth_tot)\n",
    "    L.append(longueur_cable(Z, pas))\n",
    "m=min(L)\n",
    "M=max(L) + 0.1\n",
    "X=np.linspace(m,M,10)\n",
    "l=len(X)\n",
    "Y=dict()\n",
    "for k in range (l-1):\n",
    "    Y[k]=[X[k]<=x<X[k+1] for x in L].count(True)"
   ]
  },
  {
   "cell_type": "markdown",
   "metadata": {},
   "source": [
    "### Calcul de probabilité"
   ]
  },
  {
   "cell_type": "markdown",
   "metadata": {},
   "source": [
    "Ici, on peut se placer dans le même contexte que pour la deuxième partie de la question précédente afin de calculer la probabilité à partir de la densité de la loi normale qu'approxime la suite des longueurs moyennes."
   ]
  },
  {
   "cell_type": "code",
   "execution_count": 69,
   "metadata": {},
   "outputs": [],
   "source": [
    "import numpy as np\n",
    "def g(x):\n",
    "    return 1/np.sqrt(2*np.pi)*np.exp(-1/2*x**2)\n",
    "\n",
    "def probabilité(f,n):\n",
    "    return abs(1-(integrate.quad(f,-np.inf,8.706610409419781)[0])) #comme c est un nombre très petit, on peut obtenir des valeurs négatives dûes à l'erreur commise par la méthode scipy.integrate.quad"
   ]
  },
  {
   "cell_type": "code",
   "execution_count": 70,
   "metadata": {},
   "outputs": [
    {
     "data": {
      "text/plain": [
       "1.6608936448392342e-13"
      ]
     },
     "execution_count": 70,
     "metadata": {},
     "output_type": "execute_result"
    }
   ],
   "source": [
    "probabilité(g,100)"
   ]
  },
  {
   "cell_type": "markdown",
   "metadata": {},
   "source": [
    "Remarque: ici, la valeur est très (trop) petite comme pour l'intervalle de confiance très faible que l'on avait obtenu ci-dessus, et ne correspond pas à la réalité. (toujours la même erreur de code)"
   ]
  },
  {
   "cell_type": "markdown",
   "metadata": {},
   "source": [
    "### Avec 1000, 10 000 puis 100 000 simulations"
   ]
  },
  {
   "cell_type": "markdown",
   "metadata": {},
   "source": [
    "#### Calcul de la longueur du câble"
   ]
  },
  {
   "cell_type": "code",
   "execution_count": 54,
   "metadata": {},
   "outputs": [
    {
     "data": {
      "text/plain": [
       "522.4431222669904"
      ]
     },
     "execution_count": 54,
     "metadata": {},
     "output_type": "execute_result"
    }
   ],
   "source": [
    "longueur_cable_simulation(1000, Delta) #espérance conditionnelle de la longueur pour 1000 simulations"
   ]
  },
  {
   "cell_type": "code",
   "execution_count": 55,
   "metadata": {},
   "outputs": [
    {
     "data": {
      "text/plain": [
       "522.4408559694652"
      ]
     },
     "execution_count": 55,
     "metadata": {},
     "output_type": "execute_result"
    }
   ],
   "source": [
    "longueur_cable_simulation(10000, Delta) #espérance conditionnelle de la longueur pour 10 000 simulations"
   ]
  },
  {
   "cell_type": "code",
   "execution_count": 56,
   "metadata": {},
   "outputs": [
    {
     "data": {
      "text/plain": [
       "522.4408127213085"
      ]
     },
     "execution_count": 56,
     "metadata": {},
     "output_type": "execute_result"
    }
   ],
   "source": [
    "longueur_cable_simulation(100000, Delta) #espérance conditionnelle de la longueur pour 100 000 simulations"
   ]
  },
  {
   "cell_type": "markdown",
   "metadata": {},
   "source": [
    "Comme dans la question 10 (représentation de la suite $M_n$), il semble que la longueur moyenne du câble tende vers une valeur limite proche de 522,44 mètres."
   ]
  },
  {
   "cell_type": "markdown",
   "metadata": {},
   "source": [
    "#### Histogrammes"
   ]
  },
  {
   "cell_type": "code",
   "execution_count": 96,
   "metadata": {},
   "outputs": [
    {
     "data": {
      "image/png": "[encoded data removed]",
      "text/plain": [
       "<Figure size 432x288 with 1 Axes>"
      ]
     },
     "metadata": {
      "needs_background": "light"
     },
     "output_type": "display_data"
    }
   ],
   "source": [
    "histogramme(1000, Delta)"
   ]
  },
  {
   "cell_type": "code",
   "execution_count": 97,
   "metadata": {},
   "outputs": [
    {
     "data": {
      "image/png": "[encoded data removed]",
      "text/plain": [
       "<Figure size 432x288 with 1 Axes>"
      ]
     },
     "metadata": {
      "needs_background": "light"
     },
     "output_type": "display_data"
    }
   ],
   "source": [
    "histogramme(10000, Delta)"
   ]
  },
  {
   "cell_type": "code",
   "execution_count": 98,
   "metadata": {},
   "outputs": [
    {
     "data": {
      "image/png": "[encoded data removed]",
      "text/plain": [
       "<Figure size 432x288 with 1 Axes>"
      ]
     },
     "metadata": {
      "needs_background": "light"
     },
     "output_type": "display_data"
    }
   ],
   "source": [
    "histogramme(100000, Delta)"
   ]
  },
  {
   "cell_type": "markdown",
   "metadata": {},
   "source": [
    "L'allure de ces histogrammes se rapproche de plus en plus de celle d'une gaussienne, de plus en plus resserrée (la variance diminue), en accord avec le théorème central limite."
   ]
  },
  {
   "cell_type": "markdown",
   "metadata": {},
   "source": [
    "#### Intervalles de confiance"
   ]
  },
  {
   "cell_type": "markdown",
   "metadata": {},
   "source": [
    "##### Méthode 1"
   ]
  },
  {
   "cell_type": "code",
   "execution_count": 61,
   "metadata": {},
   "outputs": [
    {
     "data": {
      "text/plain": [
       "[515.4656587870522, 528.133237357231]"
      ]
     },
     "execution_count": 61,
     "metadata": {},
     "output_type": "execute_result"
    }
   ],
   "source": [
    "intervalle_de_confiance1(1000, Delta)"
   ]
  },
  {
   "cell_type": "code",
   "execution_count": 62,
   "metadata": {
    "scrolled": true
   },
   "outputs": [
    {
     "data": {
      "text/plain": [
       "[516.0771221820673, 528.7170040824689]"
      ]
     },
     "execution_count": 62,
     "metadata": {},
     "output_type": "execute_result"
    }
   ],
   "source": [
    "intervalle_de_confiance1(10000, Delta)"
   ]
  },
  {
   "cell_type": "code",
   "execution_count": 63,
   "metadata": {},
   "outputs": [
    {
     "data": {
      "text/plain": [
       "[514.9886065872147, 528.5028340206449]"
      ]
     },
     "execution_count": 63,
     "metadata": {},
     "output_type": "execute_result"
    }
   ],
   "source": [
    "intervalle_de_confiance1(100000, Delta)"
   ]
  },
  {
   "cell_type": "markdown",
   "metadata": {},
   "source": [
    "On obtient des intervalles de oncfiance similaires, même en augmentant le nombre de simulations. \n",
    "On peut en déduire que 95% des valeurs sont comprises environ entre 515 mètres et 529 mètres."
   ]
  },
  {
   "cell_type": "markdown",
   "metadata": {},
   "source": [
    "##### Méthode 2"
   ]
  },
  {
   "cell_type": "markdown",
   "metadata": {},
   "source": [
    "Ces résultats ne correspondent pas à la réalité. Nous n'avons malheureusement pas réussi à corriger le code."
   ]
  },
  {
   "cell_type": "code",
   "execution_count": 76,
   "metadata": {},
   "outputs": [
    {
     "data": {
      "text/plain": [
       "[522.2689099343961, 522.6116985915686]"
      ]
     },
     "execution_count": 76,
     "metadata": {},
     "output_type": "execute_result"
    }
   ],
   "source": [
    "intervalle_de_confiance_2(1000,f,0.00001)"
   ]
  },
  {
   "cell_type": "code",
   "execution_count": 77,
   "metadata": {},
   "outputs": [
    {
     "data": {
      "text/plain": [
       "[522.3861046173456, 522.4945039086192]"
      ]
     },
     "execution_count": 77,
     "metadata": {},
     "output_type": "execute_result"
    }
   ],
   "source": [
    "intervalle_de_confiance_2(10000,f,0.00001)"
   ]
  },
  {
   "cell_type": "code",
   "execution_count": 78,
   "metadata": {},
   "outputs": [
    {
     "data": {
      "text/plain": [
       "[522.4231648301237, 522.457443695841]"
      ]
     },
     "execution_count": 78,
     "metadata": {},
     "output_type": "execute_result"
    }
   ],
   "source": [
    "intervalle_de_confiance_2(100000,f,0.00001)"
   ]
  },
  {
   "cell_type": "markdown",
   "metadata": {},
   "source": [
    "#### Calcul de probabilité"
   ]
  },
  {
   "cell_type": "markdown",
   "metadata": {},
   "source": [
    "Résultats probablement faux, toujours à cause de cette même erreur de code."
   ]
  },
  {
   "cell_type": "code",
   "execution_count": 79,
   "metadata": {},
   "outputs": [
    {
     "data": {
      "text/plain": [
       "1.6608936448392342e-13"
      ]
     },
     "execution_count": 79,
     "metadata": {},
     "output_type": "execute_result"
    }
   ],
   "source": [
    "probabilité(g,1000)"
   ]
  },
  {
   "cell_type": "code",
   "execution_count": 80,
   "metadata": {},
   "outputs": [
    {
     "data": {
      "text/plain": [
       "1.6608936448392342e-13"
      ]
     },
     "execution_count": 80,
     "metadata": {},
     "output_type": "execute_result"
    }
   ],
   "source": [
    "probabilité(g,10000)"
   ]
  },
  {
   "cell_type": "code",
   "execution_count": 81,
   "metadata": {},
   "outputs": [
    {
     "data": {
      "text/plain": [
       "1.6608936448392342e-13"
      ]
     },
     "execution_count": 81,
     "metadata": {},
     "output_type": "execute_result"
    }
   ],
   "source": [
    "probabilité(g,100000)"
   ]
  }
 ],
 "metadata": {
  "kernelspec": {
   "display_name": "Python 3",
   "language": "python",
   "name": "python3"
  },
  "language_info": {
   "codemirror_mode": {
    "name": "ipython",
    "version": 3
   },
   "file_extension": ".py",
   "mimetype": "text/x-python",
   "name": "python",
   "nbconvert_exporter": "python",
   "pygments_lexer": "ipython3",
   "version": "3.6.3"
  }
 },
 "nbformat": 4,
 "nbformat_minor": 2
}
